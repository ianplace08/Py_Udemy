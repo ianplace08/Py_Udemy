{
  "nbformat": 4,
  "nbformat_minor": 0,
  "metadata": {
    "colab": {
      "name": "Compund Data Structures.ipynb",
      "provenance": [],
      "authorship_tag": "ABX9TyPudpknITDdxkZkSrKMP0wv",
      "include_colab_link": true
    },
    "kernelspec": {
      "name": "python3",
      "display_name": "Python 3"
    },
    "language_info": {
      "name": "python"
    }
  },
  "cells": [
    {
      "cell_type": "markdown",
      "metadata": {
        "id": "view-in-github",
        "colab_type": "text"
      },
      "source": [
        "<a href=\"https://colab.research.google.com/github/ianplace08/Py_Udemy/blob/main/Compund_Data_Structures.ipynb\" target=\"_parent\"><img src=\"https://colab.research.google.com/assets/colab-badge.svg\" alt=\"Open In Colab\"/></a>"
      ]
    },
    {
      "cell_type": "code",
      "source": [
        "my_dict = {1:{1:[1,2,3,'ahmed'],3.2:(1,2,3)}}\n",
        "my_tuple= (1,2,{1:['tuple',6]})\n",
        "my_list=[1,(5,1,\"a\"),6.6]"
      ],
      "metadata": {
        "id": "jEZuaxl3iAeR"
      },
      "execution_count": 1,
      "outputs": []
    },
    {
      "cell_type": "markdown",
      "source": [
        "WHEN TO USE EACH ONE? TUPLE, LIST OR DICTIONARY\n"
      ],
      "metadata": {
        "id": "G-NzKvlkjHBZ"
      }
    },
    {
      "cell_type": "markdown",
      "source": [
        "* We use **LISTS** when we do not have any special cases that we want to take care of, and we want or values to be **ORDERED** or **INDEXING**\n",
        "\n",
        "* We use **TUPLES** when we are sure that the values inside them should **NOT BE CHANGED** no matter what, so this is the way to assure that.\n",
        "\n",
        "* We use **DICTIONARIES** when we want to have some sort of relation between somo **UNIQUE** variables and other non-unique variables, as we only concerned with the key\n",
        "\n",
        "* We use **SETS** when we know that any **REPEATED** data will be redundant. So, sets can be very efficient in ignoring redundant data and increase the performance of any algorithm. "
      ],
      "metadata": {
        "id": "BoJWuosIjK2M"
      }
    },
    {
      "cell_type": "code",
      "source": [
        "## Dictionaries\n",
        "\n",
        "my_dict = {1:{1:[1,2,3,'ahmed'],3.2:(1,2,3)}}\n"
      ],
      "metadata": {
        "id": "T8TxEqJsoRGx"
      },
      "execution_count": null,
      "outputs": []
    },
    {
      "cell_type": "code",
      "source": [
        "my_dict[1]"
      ],
      "metadata": {
        "colab": {
          "base_uri": "https://localhost:8080/"
        },
        "id": "se3X_K0Sob2y",
        "outputId": "5dc3b210-8f41-4edf-ee2a-b58a121cfbf1"
      },
      "execution_count": 2,
      "outputs": [
        {
          "output_type": "execute_result",
          "data": {
            "text/plain": [
              "{1: [1, 2, 3, 'ahmed'], 3.2: (1, 2, 3)}"
            ]
          },
          "metadata": {},
          "execution_count": 2
        }
      ]
    },
    {
      "cell_type": "code",
      "source": [
        "my_dict[1][1]"
      ],
      "metadata": {
        "colab": {
          "base_uri": "https://localhost:8080/"
        },
        "id": "WhUpK_jY9vM-",
        "outputId": "b80ff889-e369-4f88-8887-0605fe662113"
      },
      "execution_count": 3,
      "outputs": [
        {
          "output_type": "execute_result",
          "data": {
            "text/plain": [
              "[1, 2, 3, 'ahmed']"
            ]
          },
          "metadata": {},
          "execution_count": 3
        }
      ]
    },
    {
      "cell_type": "code",
      "source": [
        "my_dict[1][1][3]"
      ],
      "metadata": {
        "colab": {
          "base_uri": "https://localhost:8080/",
          "height": 35
        },
        "id": "7Bnyji-N-HMT",
        "outputId": "2ed7eb0f-d16c-495d-915d-634141e8b5c3"
      },
      "execution_count": 4,
      "outputs": [
        {
          "output_type": "execute_result",
          "data": {
            "application/vnd.google.colaboratory.intrinsic+json": {
              "type": "string"
            },
            "text/plain": [
              "'ahmed'"
            ]
          },
          "metadata": {},
          "execution_count": 4
        }
      ]
    },
    {
      "cell_type": "code",
      "source": [
        "my_dict[1][3.2]"
      ],
      "metadata": {
        "colab": {
          "base_uri": "https://localhost:8080/"
        },
        "id": "YvFy-cBq-Pnn",
        "outputId": "d42563cc-cd0f-4567-a631-af1d49675d01"
      },
      "execution_count": 5,
      "outputs": [
        {
          "output_type": "execute_result",
          "data": {
            "text/plain": [
              "(1, 2, 3)"
            ]
          },
          "metadata": {},
          "execution_count": 5
        }
      ]
    },
    {
      "cell_type": "code",
      "source": [
        "## LIST\n",
        "\n",
        "my_list =[{1:[\"ahm\",\"ca\",\"bh\"]},[2,(3,4,8),4],\"ahmed\"]"
      ],
      "metadata": {
        "id": "Z5PrArSY-YVs"
      },
      "execution_count": 6,
      "outputs": []
    },
    {
      "cell_type": "code",
      "source": [
        "my_list[0]"
      ],
      "metadata": {
        "colab": {
          "base_uri": "https://localhost:8080/"
        },
        "id": "rW_BtMpC_j-V",
        "outputId": "f4631151-5f9a-4ce6-e32e-9720dc11deb7"
      },
      "execution_count": 7,
      "outputs": [
        {
          "output_type": "execute_result",
          "data": {
            "text/plain": [
              "{1: ['ahm', 'ca', 'bh']}"
            ]
          },
          "metadata": {},
          "execution_count": 7
        }
      ]
    },
    {
      "cell_type": "code",
      "source": [
        "my_list[0][1]"
      ],
      "metadata": {
        "colab": {
          "base_uri": "https://localhost:8080/"
        },
        "id": "4SGXPbQw_sbd",
        "outputId": "058add1f-ebfa-41f0-cbbd-5117421bac2a"
      },
      "execution_count": 8,
      "outputs": [
        {
          "output_type": "execute_result",
          "data": {
            "text/plain": [
              "['ahm', 'ca', 'bh']"
            ]
          },
          "metadata": {},
          "execution_count": 8
        }
      ]
    },
    {
      "cell_type": "code",
      "source": [
        "my_list[0][1][1]"
      ],
      "metadata": {
        "colab": {
          "base_uri": "https://localhost:8080/",
          "height": 35
        },
        "id": "64vKcu_m_upF",
        "outputId": "3897e50d-3e91-4bab-b7d2-01ad5392e12d"
      },
      "execution_count": 9,
      "outputs": [
        {
          "output_type": "execute_result",
          "data": {
            "application/vnd.google.colaboratory.intrinsic+json": {
              "type": "string"
            },
            "text/plain": [
              "'ca'"
            ]
          },
          "metadata": {},
          "execution_count": 9
        }
      ]
    },
    {
      "cell_type": "code",
      "source": [
        "my_list[1][1][1]"
      ],
      "metadata": {
        "colab": {
          "base_uri": "https://localhost:8080/"
        },
        "id": "Ieq5AQHd_1Yk",
        "outputId": "d5bc0ea6-ffbd-4bc9-8fa8-28dda724bbba"
      },
      "execution_count": 10,
      "outputs": [
        {
          "output_type": "execute_result",
          "data": {
            "text/plain": [
              "4"
            ]
          },
          "metadata": {},
          "execution_count": 10
        }
      ]
    },
    {
      "cell_type": "code",
      "source": [
        "my_tuple = (1,2,{1:[\"tuple\",6]})"
      ],
      "metadata": {
        "id": "vAZ-KhSp_-eF"
      },
      "execution_count": 11,
      "outputs": []
    },
    {
      "cell_type": "code",
      "source": [
        "my_tuple[2][1][0]"
      ],
      "metadata": {
        "colab": {
          "base_uri": "https://localhost:8080/",
          "height": 35
        },
        "id": "FZPp3S-zA8T2",
        "outputId": "53027af8-94f5-4c6b-9c08-e8e1b6d86363"
      },
      "execution_count": 12,
      "outputs": [
        {
          "output_type": "execute_result",
          "data": {
            "application/vnd.google.colaboratory.intrinsic+json": {
              "type": "string"
            },
            "text/plain": [
              "'tuple'"
            ]
          },
          "metadata": {},
          "execution_count": 12
        }
      ]
    }
  ]
}