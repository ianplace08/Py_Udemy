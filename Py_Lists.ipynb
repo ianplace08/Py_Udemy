{
  "nbformat": 4,
  "nbformat_minor": 0,
  "metadata": {
    "colab": {
      "name": "Py_Lists.ipynb",
      "provenance": [],
      "authorship_tag": "ABX9TyOthnFlgOdcwzoE0DXoqZ92",
      "include_colab_link": true
    },
    "kernelspec": {
      "name": "python3",
      "display_name": "Python 3"
    },
    "language_info": {
      "name": "python"
    }
  },
  "cells": [
    {
      "cell_type": "markdown",
      "metadata": {
        "id": "view-in-github",
        "colab_type": "text"
      },
      "source": [
        "<a href=\"https://colab.research.google.com/github/ianplace08/Py_Udemy/blob/main/Py_Lists.ipynb\" target=\"_parent\"><img src=\"https://colab.research.google.com/assets/colab-badge.svg\" alt=\"Open In Colab\"/></a>"
      ]
    },
    {
      "cell_type": "markdown",
      "source": [
        "LOOPING LISTS"
      ],
      "metadata": {
        "id": "GAwcXQU2AxYQ"
      }
    },
    {
      "cell_type": "code",
      "source": [
        "my_list = [1,2,3,4,'Python','is','neat']\n",
        "\n",
        "for item in my_list:\n",
        "  print(item)"
      ],
      "metadata": {
        "colab": {
          "base_uri": "https://localhost:8080/"
        },
        "id": "foUNbDRIAya5",
        "outputId": "bc1a6fd2-0b2c-43a2-b43e-fca99a3b024d"
      },
      "execution_count": 1,
      "outputs": [
        {
          "output_type": "stream",
          "name": "stdout",
          "text": [
            "1\n",
            "2\n",
            "3\n",
            "4\n",
            "Python\n",
            "is\n",
            "neat\n"
          ]
        }
      ]
    },
    {
      "cell_type": "code",
      "source": [
        "my_list = [1,2,3,4,'Python','is','neat']\n",
        "\n",
        "for x in my_list:\n",
        "  print(x)"
      ],
      "metadata": {
        "colab": {
          "base_uri": "https://localhost:8080/"
        },
        "id": "NvkOVcjtB_n6",
        "outputId": "4228f2b1-0f9d-4bbe-b572-911ddc67eac3"
      },
      "execution_count": 2,
      "outputs": [
        {
          "output_type": "stream",
          "name": "stdout",
          "text": [
            "1\n",
            "2\n",
            "3\n",
            "4\n",
            "Python\n",
            "is\n",
            "neat\n"
          ]
        }
      ]
    },
    {
      "cell_type": "markdown",
      "source": [
        "BREAK FUNCTION\n",
        "\n",
        "* stop the execution of the loop"
      ],
      "metadata": {
        "id": "rQSq36XACGL8"
      }
    },
    {
      "cell_type": "code",
      "source": [
        "for item in my_list:\n",
        "  if item == 'Python':\n",
        "    break\n",
        "  print(item)"
      ],
      "metadata": {
        "colab": {
          "base_uri": "https://localhost:8080/"
        },
        "id": "U7S1EQ4JCMO8",
        "outputId": "9b60045d-13ff-4cc1-a35a-f1ba8836cc0a"
      },
      "execution_count": 3,
      "outputs": [
        {
          "output_type": "stream",
          "name": "stdout",
          "text": [
            "1\n",
            "2\n",
            "3\n",
            "4\n"
          ]
        }
      ]
    },
    {
      "cell_type": "markdown",
      "source": [
        "CONTINUE FUNCTION\n",
        "\n",
        "* Continue to the next item without executing the lines ocurring after **continue** inside the loop"
      ],
      "metadata": {
        "id": "lbBbFFUnCekH"
      }
    },
    {
      "cell_type": "code",
      "source": [
        "for item in my_list:\n",
        "  if item == 1:\n",
        "    continue\n",
        "  print(item)"
      ],
      "metadata": {
        "colab": {
          "base_uri": "https://localhost:8080/"
        },
        "id": "27qGkhJ_Cs6H",
        "outputId": "f8e0f747-517b-44b1-9497-5f242db77840"
      },
      "execution_count": 4,
      "outputs": [
        {
          "output_type": "stream",
          "name": "stdout",
          "text": [
            "2\n",
            "3\n",
            "4\n",
            "Python\n",
            "is\n",
            "neat\n"
          ]
        }
      ]
    },
    {
      "cell_type": "markdown",
      "source": [
        "ENUMERATE FUNCTION\n",
        "\n",
        "* in case you also need to know the index"
      ],
      "metadata": {
        "id": "50q0qhIjDEsB"
      }
    },
    {
      "cell_type": "code",
      "source": [
        "for idx, val in enumerate(my_list):\n",
        "  print('idx: {},value: {}'. format(idx,val))"
      ],
      "metadata": {
        "colab": {
          "base_uri": "https://localhost:8080/"
        },
        "id": "pskVQ9jpDKO_",
        "outputId": "9e0215db-4114-473b-bc0b-0601e33c46da"
      },
      "execution_count": 5,
      "outputs": [
        {
          "output_type": "stream",
          "name": "stdout",
          "text": [
            "idx: 0,value: 1\n",
            "idx: 1,value: 2\n",
            "idx: 2,value: 3\n",
            "idx: 3,value: 4\n",
            "idx: 4,value: Python\n",
            "idx: 5,value: is\n",
            "idx: 6,value: neat\n"
          ]
        }
      ]
    },
    {
      "cell_type": "markdown",
      "source": [
        "CREATING A LIST"
      ],
      "metadata": {
        "id": "0crlFijsGShE"
      }
    },
    {
      "cell_type": "code",
      "source": [
        "x = 2\n",
        "y = 4.2\n",
        "z = \"ahmed\"\n",
        "f = False\n"
      ],
      "metadata": {
        "id": "bzBDK-VCGTqR"
      },
      "execution_count": 6,
      "outputs": []
    },
    {
      "cell_type": "code",
      "source": [
        "my_list=[x,y,z,f]"
      ],
      "metadata": {
        "id": "weKzzj7_Ga9t"
      },
      "execution_count": 7,
      "outputs": []
    },
    {
      "cell_type": "code",
      "source": [
        "print(my_list)"
      ],
      "metadata": {
        "colab": {
          "base_uri": "https://localhost:8080/"
        },
        "id": "w3Gf_IXpHHLP",
        "outputId": "d51ca5c5-a3af-44bc-8c2f-59c6baefdb6b"
      },
      "execution_count": 8,
      "outputs": [
        {
          "output_type": "stream",
          "name": "stdout",
          "text": [
            "[2, 4.2, 'ahmed', False]\n"
          ]
        }
      ]
    },
    {
      "cell_type": "code",
      "source": [
        "print(type(my_list))"
      ],
      "metadata": {
        "colab": {
          "base_uri": "https://localhost:8080/"
        },
        "id": "npPxWE6vHW_K",
        "outputId": "f5632b1b-76bf-46c7-8704-c8d283b1cb03"
      },
      "execution_count": 9,
      "outputs": [
        {
          "output_type": "stream",
          "name": "stdout",
          "text": [
            "<class 'list'>\n"
          ]
        }
      ]
    },
    {
      "cell_type": "code",
      "source": [
        "int(y)"
      ],
      "metadata": {
        "id": "zQU3g0SuJYFo",
        "outputId": "65c7f96d-b979-4b75-8e99-9d7b53e22161",
        "colab": {
          "base_uri": "https://localhost:8080/"
        }
      },
      "execution_count": 15,
      "outputs": [
        {
          "output_type": "execute_result",
          "data": {
            "text/plain": [
              "4"
            ]
          },
          "metadata": {},
          "execution_count": 15
        }
      ]
    },
    {
      "cell_type": "code",
      "source": [
        "float(x)"
      ],
      "metadata": {
        "id": "qjpo1F9MJaDY",
        "outputId": "c66d5f2d-8c06-44aa-9283-c706f3654c3d",
        "colab": {
          "base_uri": "https://localhost:8080/"
        }
      },
      "execution_count": 16,
      "outputs": [
        {
          "output_type": "execute_result",
          "data": {
            "text/plain": [
              "2.0"
            ]
          },
          "metadata": {},
          "execution_count": 16
        }
      ]
    },
    {
      "cell_type": "markdown",
      "source": [
        "MUTABILITY"
      ],
      "metadata": {
        "id": "8hMp5WAmHas6"
      }
    },
    {
      "cell_type": "code",
      "source": [
        "list_example=[1,2,3]\n",
        "list_example[1]=\"ahmed\""
      ],
      "metadata": {
        "id": "tNhOVC2tHbiU"
      },
      "execution_count": 10,
      "outputs": []
    },
    {
      "cell_type": "code",
      "source": [
        "print(list_example)"
      ],
      "metadata": {
        "colab": {
          "base_uri": "https://localhost:8080/"
        },
        "id": "_6BDzejcHi2k",
        "outputId": "ad315f9b-5344-4a70-e687-de035d7e105f"
      },
      "execution_count": 11,
      "outputs": [
        {
          "output_type": "stream",
          "name": "stdout",
          "text": [
            "[1, 'ahmed', 3]\n"
          ]
        }
      ]
    },
    {
      "cell_type": "markdown",
      "source": [
        "STRINGS are **NOT** mutable"
      ],
      "metadata": {
        "id": "6zECIdxIHvJi"
      }
    },
    {
      "cell_type": "markdown",
      "source": [
        "ORDERING"
      ],
      "metadata": {
        "id": "ukILqGSJHzzd"
      }
    },
    {
      "cell_type": "code",
      "source": [
        "print(list_example[0])"
      ],
      "metadata": {
        "colab": {
          "base_uri": "https://localhost:8080/"
        },
        "id": "joivAxaEH1u4",
        "outputId": "bc0a112e-72c9-4e1a-963f-ba3cce9b9b8e"
      },
      "execution_count": 12,
      "outputs": [
        {
          "output_type": "stream",
          "name": "stdout",
          "text": [
            "1\n"
          ]
        }
      ]
    },
    {
      "cell_type": "markdown",
      "source": [
        "SLICING LISTS"
      ],
      "metadata": {
        "id": "uIOo5U_6IApF"
      }
    },
    {
      "cell_type": "code",
      "source": [
        "list_example =[3,10,'a',2,100]\n",
        "print(list_example[1:2])\n",
        "print(list_example[1:3])"
      ],
      "metadata": {
        "colab": {
          "base_uri": "https://localhost:8080/"
        },
        "id": "v49-0Uz9IBk8",
        "outputId": "35fbf3d6-25c5-4327-8480-75cbf0343873"
      },
      "execution_count": 13,
      "outputs": [
        {
          "output_type": "stream",
          "name": "stdout",
          "text": [
            "[10]\n",
            "[10, 'a']\n"
          ]
        }
      ]
    },
    {
      "cell_type": "markdown",
      "source": [
        "NEGATIVE SLICING"
      ],
      "metadata": {
        "id": "kmYuv8gFIRdI"
      }
    },
    {
      "cell_type": "code",
      "source": [
        "print(list_example[-1])\n",
        "print(list_example[-3:-1])\n",
        "print(list_example[-1:-3]) ## This one shows empty because the start index needs to be less than the END INDEX"
      ],
      "metadata": {
        "colab": {
          "base_uri": "https://localhost:8080/"
        },
        "id": "--LrmnfIISa2",
        "outputId": "1538deb2-96c9-43c9-8130-9a49f4926cbd"
      },
      "execution_count": 14,
      "outputs": [
        {
          "output_type": "stream",
          "name": "stdout",
          "text": [
            "100\n",
            "['a', 2]\n",
            "[]\n"
          ]
        }
      ]
    }
  ]
}