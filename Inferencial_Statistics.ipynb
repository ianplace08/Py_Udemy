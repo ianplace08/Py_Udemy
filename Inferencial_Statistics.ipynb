{
  "nbformat": 4,
  "nbformat_minor": 0,
  "metadata": {
    "colab": {
      "name": "Inferencial Statistics.ipynb",
      "provenance": [],
      "authorship_tag": "ABX9TyNozWAN8yihJRTLsrevr8fL",
      "include_colab_link": true
    },
    "kernelspec": {
      "name": "python3",
      "display_name": "Python 3"
    },
    "language_info": {
      "name": "python"
    }
  },
  "cells": [
    {
      "cell_type": "markdown",
      "metadata": {
        "id": "view-in-github",
        "colab_type": "text"
      },
      "source": [
        "<a href=\"https://colab.research.google.com/github/ianplace08/Py_Udemy/blob/main/Inferencial_Statistics.ipynb\" target=\"_parent\"><img src=\"https://colab.research.google.com/assets/colab-badge.svg\" alt=\"Open In Colab\"/></a>"
      ]
    },
    {
      "cell_type": "markdown",
      "source": [
        "BIAS\n",
        "\n",
        "Bias in data collection is a **distortion which results in the information not being truly representative** of the situation you are trying to investigate. Sources of bias can be prevented by carefully planning the data collection process."
      ],
      "metadata": {
        "id": "fv0KhPwFR5Zp"
      }
    },
    {
      "cell_type": "markdown",
      "source": [
        "DISTRIBUTION\n",
        "\n",
        "A distribution is a function that shows possible values for a variable and the frequency of their occurrence. There are three types: \n",
        "\n",
        "* Uniform: come with discrete distributions.\n",
        "* Binomial: come with discrete distributions.\n",
        "* Normal: come with continuous distributions."
      ],
      "metadata": {
        "id": "59hHvdp3Tzt1"
      }
    },
    {
      "cell_type": "markdown",
      "source": [
        "Normal distribution it is also known as the **Gaussian distribution** and forms a bell curve."
      ],
      "metadata": {
        "id": "dhdZQtOFaet7"
      }
    },
    {
      "cell_type": "markdown",
      "source": [
        "In Standard normal distribution the mean is 0 and the standard deviation is 1. "
      ],
      "metadata": {
        "id": "J38HxHHQa_f5"
      }
    },
    {
      "cell_type": "markdown",
      "source": [
        "MEASURE OF ASYMMETRY\n",
        "\n",
        "SKEWNESS\n",
        "\n",
        "Measures the imbalance or asymmetry from the mean of a data distribution. \n",
        "Values concentrated on one side of the data distribution. There is 3 types: \n",
        "\n",
        "* Positive/right skew: where the mean > median. Where the tail on the right side is longer, this means that the outliers are on the right side **cuasing this skewness, disruption or asymmetry in the figure**.\n",
        "* Symmetrical skew: where the mean = median. \n",
        "* Negative/Left skew: where the mean < median. Where the tail on the left side is longer, this means that the outliers are on the left side.\n",
        "\n",
        "**REMEMBER THE MEAN IS AFFECTED BY OUTLIERS**"
      ],
      "metadata": {
        "id": "R6hannlhbi7y"
      }
    },
    {
      "cell_type": "markdown",
      "source": [
        "SAMPLING DISTRIBUTION\n",
        "\n",
        "* Extracting n samples from a population, each of a size >= 30.\n",
        "* Calculate n sample means and study their distribution. "
      ],
      "metadata": {
        "id": "e8nC8p4Ic-QL"
      }
    },
    {
      "cell_type": "markdown",
      "source": [
        "CENTRAL LIMIT THEOREM\n",
        "\n",
        "Regardless of the initial shape of the population distribution, sampling distribution will approximate to a normal distribution. As the sample increases, sampling distribution will get narrower and more normal. \n",
        "\n",
        "* Population and sample mean are equal."
      ],
      "metadata": {
        "id": "p-Gsk0MehMMv"
      }
    },
    {
      "cell_type": "markdown",
      "source": [
        "CONFIDENCE INTERVALS\n",
        "\n",
        "The area under the graph, which tells us the confidence level of how much confident you are about a particular distribution. It has a lower limit and a upper limit.\n",
        "\n",
        "Under the normal distribution it is shown that you have 95% confidence in the mean an other values that lies in this particular region. "
      ],
      "metadata": {
        "id": "HZmadj8hipVx"
      }
    }
  ]
}