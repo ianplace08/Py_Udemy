{
  "nbformat": 4,
  "nbformat_minor": 0,
  "metadata": {
    "colab": {
      "name": "Py_Dictionaries.ipynb",
      "provenance": [],
      "authorship_tag": "ABX9TyPZbGpgouUqFwWkNFRbbyxa",
      "include_colab_link": true
    },
    "kernelspec": {
      "name": "python3",
      "display_name": "Python 3"
    },
    "language_info": {
      "name": "python"
    }
  },
  "cells": [
    {
      "cell_type": "markdown",
      "metadata": {
        "id": "view-in-github",
        "colab_type": "text"
      },
      "source": [
        "<a href=\"https://colab.research.google.com/github/ianplace08/Py_Udemy/blob/main/Py_Dictionaries.ipynb\" target=\"_parent\"><img src=\"https://colab.research.google.com/assets/colab-badge.svg\" alt=\"Open In Colab\"/></a>"
      ]
    },
    {
      "cell_type": "markdown",
      "source": [
        "It is a key-value pair data structure\n",
        "* Can be indexed, but with its key\n",
        "* Keys are unique\n",
        "* Do not have an order\n",
        "* We use the curly brackets '{}' and colon ':'\n"
      ],
      "metadata": {
        "id": "62K38_sqwKYs"
      }
    },
    {
      "cell_type": "code",
      "source": [
        "my_dict={1:2,\"ahmed\":4,2.3:[\"a\",5,2.1]}\n",
        "print(my_dict[2.3]) ## To print it we need to insert a key that it is in the dictionary. In this case can be 1, \"ahmed\" or 2.3"
      ],
      "metadata": {
        "colab": {
          "base_uri": "https://localhost:8080/"
        },
        "id": "4Y5FeUg3wmOu",
        "outputId": "2e93ee1f-d124-4c22-a8ea-0bbe4adf530a"
      },
      "execution_count": 4,
      "outputs": [
        {
          "output_type": "stream",
          "name": "stdout",
          "text": [
            "['a', 5, 2.1]\n"
          ]
        }
      ]
    },
    {
      "cell_type": "markdown",
      "source": [
        "In 1:2, the element before the colon '1:' is the **key** and the element after the colon :2 is the **value**"
      ],
      "metadata": {
        "id": "GvtoP9rbw5iT"
      }
    },
    {
      "cell_type": "markdown",
      "source": [
        "CHECK KEY EXISTANCE"
      ],
      "metadata": {
        "id": "uPwwiPrGz-R5"
      }
    },
    {
      "cell_type": "code",
      "source": [
        "print(4 in my_dict)"
      ],
      "metadata": {
        "colab": {
          "base_uri": "https://localhost:8080/"
        },
        "id": "WDeJKIaB0AKr",
        "outputId": "e0bc99b7-d820-4ed9-8736-c01325f247a9"
      },
      "execution_count": 6,
      "outputs": [
        {
          "output_type": "stream",
          "name": "stdout",
          "text": [
            "False\n"
          ]
        }
      ]
    },
    {
      "cell_type": "code",
      "source": [
        "## GET THE VALUE OF THE VALUR OF A SPECIFIC KEY WITHOUT GETTIN AN ERROR\n",
        "\n",
        "print(my_dict.get(1))\n",
        "print(my_dict.get(2)) ## It print \"none\" in case the key does not exist"
      ],
      "metadata": {
        "colab": {
          "base_uri": "https://localhost:8080/"
        },
        "id": "uDlIF2Hc0JZe",
        "outputId": "7c0beac9-8ac4-4790-d71f-9866004594c7"
      },
      "execution_count": 8,
      "outputs": [
        {
          "output_type": "stream",
          "name": "stdout",
          "text": [
            "2\n",
            "None\n"
          ]
        }
      ]
    },
    {
      "cell_type": "markdown",
      "source": [
        "REPEATED KEYS"
      ],
      "metadata": {
        "id": "zSKnCSw32o81"
      }
    },
    {
      "cell_type": "code",
      "source": [
        "my_dict={1:2,\"ahmed\":4,1:[\"a\",5,2.1]}\n",
        "print(my_dict) ## In case of repeated key Python will overwrite with the latest key value"
      ],
      "metadata": {
        "colab": {
          "base_uri": "https://localhost:8080/"
        },
        "id": "5M5Hm3kM2scv",
        "outputId": "46e8d7b4-1fb7-422e-ca65-f905d6a7be43"
      },
      "execution_count": 10,
      "outputs": [
        {
          "output_type": "stream",
          "name": "stdout",
          "text": [
            "{1: ['a', 5, 2.1], 'ahmed': 4}\n"
          ]
        }
      ]
    },
    {
      "cell_type": "markdown",
      "source": [
        "DICTIONARIES SINTAXIS\n",
        "\n",
        "key1: value, key2:value"
      ],
      "metadata": {
        "id": "asmnUx1S3Kvk"
      }
    },
    {
      "cell_type": "code",
      "source": [
        "grocery_dict = {} ## empty dictionary\n",
        "\n",
        "print(grocery_dict)\n",
        "print(type(grocery_dict))\n",
        "\n",
        "grocery_dict = {'melon':2,\"Apple\":3,\"Strawberry\":5}\n",
        "\n",
        "print(grocery_dict)\n",
        "print(type(grocery_dict))"
      ],
      "metadata": {
        "colab": {
          "base_uri": "https://localhost:8080/"
        },
        "id": "mDfJ8W8L3QAg",
        "outputId": "2881a968-c0b0-4427-cf2d-576ec3695d47"
      },
      "execution_count": 12,
      "outputs": [
        {
          "output_type": "stream",
          "name": "stdout",
          "text": [
            "{}\n",
            "<class 'dict'>\n",
            "{'melon': 2, 'Apple': 3, 'Strawberry': 5}\n",
            "<class 'dict'>\n"
          ]
        }
      ]
    },
    {
      "cell_type": "markdown",
      "source": [
        "What is the output of the following?"
      ],
      "metadata": {
        "id": "gPgAKysg4r3J"
      }
    },
    {
      "cell_type": "code",
      "source": [
        "print(grocery_dict[\"melon\"])"
      ],
      "metadata": {
        "colab": {
          "base_uri": "https://localhost:8080/"
        },
        "id": "AJfDru6140oE",
        "outputId": "5cc74012-fd7b-4f36-e5a4-6ba6a9b8e6bd"
      },
      "execution_count": 15,
      "outputs": [
        {
          "output_type": "stream",
          "name": "stdout",
          "text": [
            "2\n"
          ]
        }
      ]
    },
    {
      "cell_type": "markdown",
      "source": [
        "What if we have keys that are not unique?"
      ],
      "metadata": {
        "id": "QoJAwZPA5FDW"
      }
    },
    {
      "cell_type": "code",
      "source": [
        "grocery_dict = {'melon':2,\"Apple\":3,\"Strawberry\":5,\"Apple\":10}\n",
        "\n",
        "print(grocery_dict) ## It will overwrite for the latest key value"
      ],
      "metadata": {
        "colab": {
          "base_uri": "https://localhost:8080/"
        },
        "id": "AVnCOuT_5IBu",
        "outputId": "df910f12-bafc-4ee3-d917-28b3c531125f"
      },
      "execution_count": 16,
      "outputs": [
        {
          "output_type": "stream",
          "name": "stdout",
          "text": [
            "{'melon': 2, 'Apple': 10, 'Strawberry': 5}\n"
          ]
        }
      ]
    },
    {
      "cell_type": "markdown",
      "source": [
        "How to check if a key exists or not?"
      ],
      "metadata": {
        "id": "qhOXN7an5bCq"
      }
    },
    {
      "cell_type": "code",
      "source": [
        "## Using the IN operator\n",
        "\n",
        "print(1 in grocery_dict)\n",
        "print(\"melon\" in grocery_dict)"
      ],
      "metadata": {
        "colab": {
          "base_uri": "https://localhost:8080/"
        },
        "id": "copwJuiq5dDi",
        "outputId": "5347f5a4-ebc3-4267-f578-e052118461e4"
      },
      "execution_count": 18,
      "outputs": [
        {
          "output_type": "stream",
          "name": "stdout",
          "text": [
            "False\n",
            "True\n"
          ]
        }
      ]
    },
    {
      "cell_type": "markdown",
      "source": [
        "What if we want to get the values of a specific key **WITHOUT** an Error"
      ],
      "metadata": {
        "id": "oQ2Os5_26bem"
      }
    },
    {
      "cell_type": "code",
      "source": [
        "## We use the GET function\n",
        "\n",
        "print(grocery_dict.get(\"Apple\"))\n",
        "print(grocery_dict.get(3))"
      ],
      "metadata": {
        "colab": {
          "base_uri": "https://localhost:8080/"
        },
        "id": "quF1L3tq6i7o",
        "outputId": "12a2a5c3-3c60-47be-86b1-2d035275aa49"
      },
      "execution_count": 21,
      "outputs": [
        {
          "output_type": "stream",
          "name": "stdout",
          "text": [
            "10\n",
            "None\n"
          ]
        }
      ]
    },
    {
      "cell_type": "markdown",
      "source": [
        "What are the dictionaries functions?"
      ],
      "metadata": {
        "id": "DTETHUGFEmuL"
      }
    },
    {
      "cell_type": "code",
      "source": [
        "grocery_dict.keys()"
      ],
      "metadata": {
        "id": "EKs7b7pcEosJ"
      },
      "execution_count": null,
      "outputs": []
    },
    {
      "cell_type": "markdown",
      "source": [
        "**Clear Function**"
      ],
      "metadata": {
        "id": "mLXNVshkG0Eh"
      }
    },
    {
      "cell_type": "code",
      "source": [
        "grocery_dict = {'melon':2,\"Apple\":3,\"Strawberry\":5,\"Apple\":10}\n",
        "\n",
        "print(grocery_dict)\n",
        "grocery_dict.clear() ## Clean all the values of the dictionary\n",
        "print(grocery_dict)"
      ],
      "metadata": {
        "colab": {
          "base_uri": "https://localhost:8080/"
        },
        "id": "2TLcHR66G18R",
        "outputId": "27c8d338-7f18-43e6-9470-a998068b7128"
      },
      "execution_count": 22,
      "outputs": [
        {
          "output_type": "stream",
          "name": "stdout",
          "text": [
            "{'melon': 2, 'Apple': 10, 'Strawberry': 5}\n",
            "{}\n"
          ]
        }
      ]
    },
    {
      "cell_type": "markdown",
      "source": [
        "**Copy Function**"
      ],
      "metadata": {
        "id": "KkcV32lGHQV1"
      }
    },
    {
      "cell_type": "code",
      "source": [
        "grocery_dict = {'melon':2,\"Apple\":3,\"Strawberry\":5,\"Apple\":10}\n",
        "\n",
        "print(grocery_dict)\n",
        "grocery_dict_copy = grocery_dict.copy() ## Copy the values and save it in a new variable\n",
        "print(grocery_dict_copy)"
      ],
      "metadata": {
        "colab": {
          "base_uri": "https://localhost:8080/"
        },
        "id": "D68Hrzh1HR1o",
        "outputId": "e5e6a047-44ee-49c4-dbba-bc9fee4d3512"
      },
      "execution_count": 23,
      "outputs": [
        {
          "output_type": "stream",
          "name": "stdout",
          "text": [
            "{'melon': 2, 'Apple': 10, 'Strawberry': 5}\n",
            "{'melon': 2, 'Apple': 10, 'Strawberry': 5}\n"
          ]
        }
      ]
    },
    {
      "cell_type": "markdown",
      "source": [
        "**Fromkey Function**"
      ],
      "metadata": {
        "id": "RAY80PMVHiz0"
      }
    },
    {
      "cell_type": "code",
      "source": [
        "grocery_dict = {'melon':2,\"Apple\":3,\"Strawberry\":5,\"Apple\":10}\n",
        "\n",
        "print(grocery_dict)\n",
        "list_keys = ['Melon',\"Apple\"]\n",
        "grocer_dict_from_key = grocery_dict.fromkeys(list_keys,[0,1]) ## Returns a new dict with keys from iterable and values equal to value\n",
        "print(grocer_dict_from_key)"
      ],
      "metadata": {
        "colab": {
          "base_uri": "https://localhost:8080/"
        },
        "id": "jDR6UFMkHl5u",
        "outputId": "47027d78-2ea1-4226-8171-bad1336e01c3"
      },
      "execution_count": 24,
      "outputs": [
        {
          "output_type": "stream",
          "name": "stdout",
          "text": [
            "{'melon': 2, 'Apple': 10, 'Strawberry': 5}\n",
            "{'Melon': [0, 1], 'Apple': [0, 1]}\n"
          ]
        }
      ]
    },
    {
      "cell_type": "code",
      "source": [
        "## It can change \n",
        "\n",
        "grocery_dict = {'melon':2,\"Apple\":3,\"Strawberry\":5,\"Apple\":10}\n",
        "\n",
        "print(grocery_dict)\n",
        "list_keys = ['Melon',\"Apple\"]\n",
        "grocer_dict_from_key = grocery_dict.fromkeys(list_keys,[0,1,5]) ## Returns a new dict with keys from iterable and values equal to value\n",
        "print(grocer_dict_from_key)"
      ],
      "metadata": {
        "colab": {
          "base_uri": "https://localhost:8080/"
        },
        "id": "dOVcwBxtLppp",
        "outputId": "ab1d119a-c24e-4316-8d56-f6bf7bb155a0"
      },
      "execution_count": 25,
      "outputs": [
        {
          "output_type": "stream",
          "name": "stdout",
          "text": [
            "{'melon': 2, 'Apple': 10, 'Strawberry': 5}\n",
            "{'Melon': [0, 1, 5], 'Apple': [0, 1, 5]}\n"
          ]
        }
      ]
    },
    {
      "cell_type": "markdown",
      "source": [
        "**Items function**"
      ],
      "metadata": {
        "id": "wGw-0F-BL34C"
      }
    },
    {
      "cell_type": "code",
      "source": [
        "grocery_dict = {'melon':2,\"Apple\":3,\"Strawberry\":5,\"Apple\":10}\n",
        "\n",
        "print(grocery_dict)\n",
        "print(grocery_dict.items()) ## It will return a tuple of all key values"
      ],
      "metadata": {
        "colab": {
          "base_uri": "https://localhost:8080/"
        },
        "id": "GJcpkM7WL6CD",
        "outputId": "62d6462f-5757-4038-cdbf-62b00ed14c65"
      },
      "execution_count": 26,
      "outputs": [
        {
          "output_type": "stream",
          "name": "stdout",
          "text": [
            "{'melon': 2, 'Apple': 10, 'Strawberry': 5}\n",
            "dict_items([('melon', 2), ('Apple', 10), ('Strawberry', 5)])\n"
          ]
        }
      ]
    },
    {
      "cell_type": "markdown",
      "source": [
        "**Keys function**"
      ],
      "metadata": {
        "id": "3ujTnLKaMRPP"
      }
    },
    {
      "cell_type": "code",
      "source": [
        "grocery_dict = {'melon':2,\"Apple\":3,\"Strawberry\":5,\"Apple\":10}\n",
        "\n",
        "print(grocery_dict)\n",
        "print(grocery_dict.keys()) ## It returns the keys of the dictionary\n"
      ],
      "metadata": {
        "colab": {
          "base_uri": "https://localhost:8080/"
        },
        "id": "7qCPW84zMSpl",
        "outputId": "8f5ae44f-ab49-4e70-c806-f18aafcfdff3"
      },
      "execution_count": 27,
      "outputs": [
        {
          "output_type": "stream",
          "name": "stdout",
          "text": [
            "{'melon': 2, 'Apple': 10, 'Strawberry': 5}\n",
            "dict_keys(['melon', 'Apple', 'Strawberry'])\n"
          ]
        }
      ]
    },
    {
      "cell_type": "markdown",
      "source": [
        "**Looping through dictionaries**"
      ],
      "metadata": {
        "id": "CQewRpH0M4Ht"
      }
    },
    {
      "cell_type": "code",
      "source": [
        "grocery_dict = {'melon':2,\"Apple\":3,\"Strawberry\":5,\"Apple\":10}\n",
        "\n",
        "for k,v in grocery_dict.items():\n",
        "  print(k,v)"
      ],
      "metadata": {
        "colab": {
          "base_uri": "https://localhost:8080/"
        },
        "id": "1ZIMGbc5M6bY",
        "outputId": "d1d562d4-7712-4367-8d22-8352f6f13816"
      },
      "execution_count": 28,
      "outputs": [
        {
          "output_type": "stream",
          "name": "stdout",
          "text": [
            "melon 2\n",
            "Apple 10\n",
            "Strawberry 5\n"
          ]
        }
      ]
    }
  ]
}