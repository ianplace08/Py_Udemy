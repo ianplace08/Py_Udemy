{
  "nbformat": 4,
  "nbformat_minor": 0,
  "metadata": {
    "colab": {
      "name": "Numbers and booleans.ipynb",
      "provenance": [],
      "authorship_tag": "ABX9TyNrbctqcu7fopZFagJRRRNh",
      "include_colab_link": true
    },
    "kernelspec": {
      "name": "python3",
      "display_name": "Python 3"
    },
    "language_info": {
      "name": "python"
    }
  },
  "cells": [
    {
      "cell_type": "markdown",
      "metadata": {
        "id": "view-in-github",
        "colab_type": "text"
      },
      "source": [
        "<a href=\"https://colab.research.google.com/github/ianplace08/Py_Udemy/blob/main/Numbers_and_booleans.ipynb\" target=\"_parent\"><img src=\"https://colab.research.google.com/assets/colab-badge.svg\" alt=\"Open In Colab\"/></a>"
      ]
    },
    {
      "cell_type": "code",
      "execution_count": null,
      "metadata": {
        "id": "Oj16fLXnY_Fj"
      },
      "outputs": [],
      "source": [
        "Numbers"
      ]
    },
    {
      "cell_type": "markdown",
      "source": [
        "Integer"
      ],
      "metadata": {
        "id": "G2GuQ2k2ZKsh"
      }
    },
    {
      "cell_type": "code",
      "source": [
        "a = 34"
      ],
      "metadata": {
        "id": "imh3Ljk9ZL-S"
      },
      "execution_count": null,
      "outputs": []
    },
    {
      "cell_type": "code",
      "source": [
        "a"
      ],
      "metadata": {
        "colab": {
          "base_uri": "https://localhost:8080/"
        },
        "id": "QL6rwAX8ZoUp",
        "outputId": "518fc0d6-ece3-4fb3-8ae1-ace303ebed19"
      },
      "execution_count": null,
      "outputs": [
        {
          "output_type": "execute_result",
          "data": {
            "text/plain": [
              "34"
            ]
          },
          "metadata": {},
          "execution_count": 2
        }
      ]
    },
    {
      "cell_type": "markdown",
      "source": [
        "FLOAT"
      ],
      "metadata": {
        "id": "S3zLDDV7ZrOT"
      }
    },
    {
      "cell_type": "code",
      "source": [
        "b = 9.5"
      ],
      "metadata": {
        "id": "KxeSGaZnZr98"
      },
      "execution_count": null,
      "outputs": []
    },
    {
      "cell_type": "markdown",
      "source": [
        "* type()"
      ],
      "metadata": {
        "id": "n0URI4dGZyK1"
      }
    },
    {
      "cell_type": "code",
      "source": [
        "type(b)"
      ],
      "metadata": {
        "colab": {
          "base_uri": "https://localhost:8080/"
        },
        "id": "R62_wbc_Zzfe",
        "outputId": "c99f5d87-af8d-48e0-964b-d7401fd07894"
      },
      "execution_count": null,
      "outputs": [
        {
          "output_type": "execute_result",
          "data": {
            "text/plain": [
              "float"
            ]
          },
          "metadata": {},
          "execution_count": 4
        }
      ]
    },
    {
      "cell_type": "markdown",
      "source": [
        "Change variable type"
      ],
      "metadata": {
        "id": "aM3GSU6hZ4TT"
      }
    },
    {
      "cell_type": "markdown",
      "source": [
        "* TypeCasting"
      ],
      "metadata": {
        "id": "aj9bR8BeZ_BF"
      }
    },
    {
      "cell_type": "code",
      "source": [
        "divide = 5/2\n",
        "print(divide)"
      ],
      "metadata": {
        "colab": {
          "base_uri": "https://localhost:8080/"
        },
        "id": "1puQEbz9aAms",
        "outputId": "f23ca2a5-fd19-4f62-b46d-2568d57fe638"
      },
      "execution_count": null,
      "outputs": [
        {
          "output_type": "stream",
          "name": "stdout",
          "text": [
            "2.5\n"
          ]
        }
      ]
    },
    {
      "cell_type": "markdown",
      "source": [
        "* int()\n",
        "* float()"
      ],
      "metadata": {
        "id": "WhMEWCDQaNs1"
      }
    },
    {
      "cell_type": "code",
      "source": [
        "float(a)"
      ],
      "metadata": {
        "colab": {
          "base_uri": "https://localhost:8080/"
        },
        "id": "dmWiDqFPaPB-",
        "outputId": "e01e78b1-1e93-4859-d018-b8c680ff0dbc"
      },
      "execution_count": null,
      "outputs": [
        {
          "output_type": "execute_result",
          "data": {
            "text/plain": [
              "34.0"
            ]
          },
          "metadata": {},
          "execution_count": 7
        }
      ]
    },
    {
      "cell_type": "code",
      "source": [
        "int(divide)"
      ],
      "metadata": {
        "colab": {
          "base_uri": "https://localhost:8080/"
        },
        "id": "Bc11GG7EafRZ",
        "outputId": "48d1685e-6c65-4aac-d776-ad2bf278317f"
      },
      "execution_count": null,
      "outputs": [
        {
          "output_type": "execute_result",
          "data": {
            "text/plain": [
              "2"
            ]
          },
          "metadata": {},
          "execution_count": 8
        }
      ]
    },
    {
      "cell_type": "markdown",
      "source": [
        "Boolean"
      ],
      "metadata": {
        "id": "vU41ZhMjaj0A"
      }
    },
    {
      "cell_type": "code",
      "source": [
        "r = True\n",
        "s = False\n"
      ],
      "metadata": {
        "id": "fhkQpxvgakoX"
      },
      "execution_count": null,
      "outputs": []
    },
    {
      "cell_type": "code",
      "source": [
        "print(type(r))\n",
        "print(type(s))"
      ],
      "metadata": {
        "colab": {
          "base_uri": "https://localhost:8080/"
        },
        "id": "IBNG0ZnLas0j",
        "outputId": "0bd6ef96-833c-455e-e617-469e2b574678"
      },
      "execution_count": null,
      "outputs": [
        {
          "output_type": "stream",
          "name": "stdout",
          "text": [
            "<class 'bool'>\n",
            "<class 'bool'>\n"
          ]
        }
      ]
    },
    {
      "cell_type": "code",
      "source": [
        "type(r)"
      ],
      "metadata": {
        "colab": {
          "base_uri": "https://localhost:8080/"
        },
        "id": "JVyWx0Paa5Xr",
        "outputId": "e0d3212e-7be1-422c-801a-5ef941dedea6"
      },
      "execution_count": null,
      "outputs": [
        {
          "output_type": "execute_result",
          "data": {
            "text/plain": [
              "bool"
            ]
          },
          "metadata": {},
          "execution_count": 11
        }
      ]
    }
  ]
}