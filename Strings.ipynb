{
  "nbformat": 4,
  "nbformat_minor": 0,
  "metadata": {
    "colab": {
      "name": "Strings.ipynb",
      "provenance": [],
      "authorship_tag": "ABX9TyN0azQ+UxLZl6FnDOVqzVIq",
      "include_colab_link": true
    },
    "kernelspec": {
      "name": "python3",
      "display_name": "Python 3"
    },
    "language_info": {
      "name": "python"
    }
  },
  "cells": [
    {
      "cell_type": "markdown",
      "metadata": {
        "id": "view-in-github",
        "colab_type": "text"
      },
      "source": [
        "<a href=\"https://colab.research.google.com/github/ianplace08/Py_Udemy/blob/main/Strings.ipynb\" target=\"_parent\"><img src=\"https://colab.research.google.com/assets/colab-badge.svg\" alt=\"Open In Colab\"/></a>"
      ]
    },
    {
      "cell_type": "code",
      "execution_count": 1,
      "metadata": {
        "colab": {
          "base_uri": "https://localhost:8080/",
          "height": 35
        },
        "id": "IuiNPqqZfJ9Z",
        "outputId": "86f2ae9b-4eb8-490f-c034-18c30648f9cb"
      },
      "outputs": [
        {
          "output_type": "execute_result",
          "data": {
            "application/vnd.google.colaboratory.intrinsic+json": {
              "type": "string"
            },
            "text/plain": [
              "'He is a data scientist'"
            ]
          },
          "metadata": {},
          "execution_count": 1
        }
      ],
      "source": [
        "\"He is a data scientist\""
      ]
    },
    {
      "cell_type": "markdown",
      "source": [
        "Escape character"
      ],
      "metadata": {
        "id": "lwj2DQ-mf6Hw"
      }
    },
    {
      "cell_type": "code",
      "source": [
        "print('Newton\\'s third law: \"Every action has an equal but opposite reaction')"
      ],
      "metadata": {
        "colab": {
          "base_uri": "https://localhost:8080/"
        },
        "id": "9zGl10cRf8U5",
        "outputId": "7a5b4aa3-a5bc-4265-8391-51309a3c8fdf"
      },
      "execution_count": 2,
      "outputs": [
        {
          "output_type": "stream",
          "name": "stdout",
          "text": [
            "Newton's third law: \"Every action has an equal but opposite reaction\n"
          ]
        }
      ]
    },
    {
      "cell_type": "markdown",
      "source": [
        "String Concatenation"
      ],
      "metadata": {
        "id": "XZZg0ge-gX8J"
      }
    },
    {
      "cell_type": "code",
      "source": [
        "print(\"Hello\" + \" World\")"
      ],
      "metadata": {
        "colab": {
          "base_uri": "https://localhost:8080/"
        },
        "id": "NZWao-m9gZ1-",
        "outputId": "89e0b0a0-da5e-40a8-dca6-1dfc03d17021"
      },
      "execution_count": 4,
      "outputs": [
        {
          "output_type": "stream",
          "name": "stdout",
          "text": [
            "Hello World\n"
          ]
        }
      ]
    },
    {
      "cell_type": "code",
      "source": [
        "print(\"Hello\" + \"\\nWorld\")"
      ],
      "metadata": {
        "colab": {
          "base_uri": "https://localhost:8080/"
        },
        "id": "7zbrkYwCgeLp",
        "outputId": "62b8a24d-75a9-4c30-fa2e-6e040ad8e77c"
      },
      "execution_count": 6,
      "outputs": [
        {
          "output_type": "stream",
          "name": "stdout",
          "text": [
            "Hello\n",
            "World\n"
          ]
        }
      ]
    },
    {
      "cell_type": "markdown",
      "source": [
        "STRING INDEXING"
      ],
      "metadata": {
        "id": "paPc4wHxgpQB"
      }
    },
    {
      "cell_type": "code",
      "source": [
        "greetings = \"Hello World!\"\n",
        "print(greetings)\n",
        "\n",
        "first = \"Hello \"\n",
        "second = \"World!\"\n",
        "\n",
        "join = first + second\n",
        "\n",
        "print(join)"
      ],
      "metadata": {
        "colab": {
          "base_uri": "https://localhost:8080/"
        },
        "id": "RjSTBvxqgqeF",
        "outputId": "2aa1580a-98c6-427b-e3c3-e8b528d617de"
      },
      "execution_count": 8,
      "outputs": [
        {
          "output_type": "stream",
          "name": "stdout",
          "text": [
            "Hello World!\n",
            "Hello World!\n"
          ]
        }
      ]
    },
    {
      "cell_type": "code",
      "source": [
        "join[4]"
      ],
      "metadata": {
        "colab": {
          "base_uri": "https://localhost:8080/",
          "height": 35
        },
        "id": "Y4qjkFpljJL7",
        "outputId": "6b461629-a5b4-4f8c-e663-0e6106d700cf"
      },
      "execution_count": 10,
      "outputs": [
        {
          "output_type": "execute_result",
          "data": {
            "application/vnd.google.colaboratory.intrinsic+json": {
              "type": "string"
            },
            "text/plain": [
              "'o'"
            ]
          },
          "metadata": {},
          "execution_count": 10
        }
      ]
    },
    {
      "cell_type": "code",
      "source": [
        "print(\"First Character:  \", join[0])\n",
        "print(\"Second Character:  \", join[1])\n",
        "print(\"Last Character:  \", join[11])"
      ],
      "metadata": {
        "colab": {
          "base_uri": "https://localhost:8080/"
        },
        "id": "75QaDvY5it-_",
        "outputId": "5c4f4ed2-13d2-4232-8b99-460d53309963"
      },
      "execution_count": 9,
      "outputs": [
        {
          "output_type": "stream",
          "name": "stdout",
          "text": [
            "First Character:   H\n",
            "Second Character:   e\n",
            "Last Character:   !\n"
          ]
        }
      ]
    },
    {
      "cell_type": "markdown",
      "source": [
        "STRING SLICING\n",
        "\n",
        "* Extracting a particular substring from the string"
      ],
      "metadata": {
        "id": "NLGQbLcTjOnk"
      }
    },
    {
      "cell_type": "code",
      "source": [
        "greetings = \"Hello World!\"\n",
        "\n",
        "print(\"First part: -> \", greetings[0:5])\n",
        "print(\"Second part: -> \", greetings[6:12])"
      ],
      "metadata": {
        "colab": {
          "base_uri": "https://localhost:8080/"
        },
        "id": "seq-WE8TjQBs",
        "outputId": "7d443c7f-d278-4887-c135-cb5a24e67fdc"
      },
      "execution_count": 11,
      "outputs": [
        {
          "output_type": "stream",
          "name": "stdout",
          "text": [
            "First part: ->  Hello\n",
            "Second part: ->  World!\n"
          ]
        }
      ]
    },
    {
      "cell_type": "code",
      "source": [
        "print(greetings[0:1])"
      ],
      "metadata": {
        "colab": {
          "base_uri": "https://localhost:8080/"
        },
        "id": "dUSZ3I2lk2_4",
        "outputId": "7a1c2d5f-e7aa-437b-84a3-8ffe703e80ed"
      },
      "execution_count": 12,
      "outputs": [
        {
          "output_type": "stream",
          "name": "stdout",
          "text": [
            "H\n"
          ]
        }
      ]
    },
    {
      "cell_type": "markdown",
      "source": [
        "LEN()"
      ],
      "metadata": {
        "id": "yf6u7englHTn"
      }
    },
    {
      "cell_type": "code",
      "source": [
        "sentence = \"My name is Ian and I love football\"\n",
        "\n",
        "print(len(sentence))"
      ],
      "metadata": {
        "colab": {
          "base_uri": "https://localhost:8080/"
        },
        "id": "-0X7NXK0lIFI",
        "outputId": "40ddf2ce-30a8-4a35-c679-15cdb834c56e"
      },
      "execution_count": 13,
      "outputs": [
        {
          "output_type": "stream",
          "name": "stdout",
          "text": [
            "34\n"
          ]
        }
      ]
    },
    {
      "cell_type": "code",
      "source": [
        "print(sentence[len(sentence)-1])"
      ],
      "metadata": {
        "colab": {
          "base_uri": "https://localhost:8080/"
        },
        "id": "_Q0lWvEVlegU",
        "outputId": "54f6a5dc-65ae-4b3c-baa9-0d2ffc137f69"
      },
      "execution_count": 14,
      "outputs": [
        {
          "output_type": "stream",
          "name": "stdout",
          "text": [
            "l\n"
          ]
        }
      ]
    }
  ]
}