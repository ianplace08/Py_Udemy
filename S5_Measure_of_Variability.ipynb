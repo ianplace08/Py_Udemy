{
  "nbformat": 4,
  "nbformat_minor": 0,
  "metadata": {
    "colab": {
      "name": "S5_Measure of Variability.ipynb",
      "provenance": [],
      "authorship_tag": "ABX9TyPiLfl/7SA+w/uUPOS3EFgu",
      "include_colab_link": true
    },
    "kernelspec": {
      "name": "python3",
      "display_name": "Python 3"
    },
    "language_info": {
      "name": "python"
    }
  },
  "cells": [
    {
      "cell_type": "markdown",
      "metadata": {
        "id": "view-in-github",
        "colab_type": "text"
      },
      "source": [
        "<a href=\"https://colab.research.google.com/github/ianplace08/Py_Udemy/blob/main/S5_Measure_of_Variability.ipynb\" target=\"_parent\"><img src=\"https://colab.research.google.com/assets/colab-badge.svg\" alt=\"Open In Colab\"/></a>"
      ]
    },
    {
      "cell_type": "markdown",
      "source": [
        "OUTLIERS\n",
        "\n",
        "An extreme value in the dataset that seems alien in comparison to al other values. "
      ],
      "metadata": {
        "id": "yb14txzH-Myy"
      }
    },
    {
      "cell_type": "markdown",
      "source": [
        "CENTRAL TENDENCY \n",
        "\n",
        "Tell us the location of the data. We use the three M's:\n",
        "\n",
        "* Mean: average of the data. Greatly affected by outliers.\n",
        "* Median: middle value of a sorted dataset. If the size of the dataset is an **odd** number, then median is represented by the numerical value corresponding to the positioning point of the ordered observations. If there is an **even** number of observations in the dataset, then the positioning point lies between the two observations in the middle of the dataset. \n",
        "* Mode: Value that occurs **most often** in a dataset. Immune to outliers. A dataset can have **two or more modes**, namely, **Bimodal, Trimodal, Multimodal**. A dataset can also have no mode. Is the best choice with categorical data.\n"
      ],
      "metadata": {
        "id": "tagjmKFA-e4k"
      }
    }
  ]
}