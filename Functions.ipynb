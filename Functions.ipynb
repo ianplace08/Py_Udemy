{
  "nbformat": 4,
  "nbformat_minor": 0,
  "metadata": {
    "colab": {
      "name": "Functions.ipynb",
      "provenance": [],
      "authorship_tag": "ABX9TyOeeUlOjSKv140SMJA/MPI3",
      "include_colab_link": true
    },
    "kernelspec": {
      "name": "python3",
      "display_name": "Python 3"
    },
    "language_info": {
      "name": "python"
    }
  },
  "cells": [
    {
      "cell_type": "markdown",
      "metadata": {
        "id": "view-in-github",
        "colab_type": "text"
      },
      "source": [
        "<a href=\"https://colab.research.google.com/github/ianplace08/Py_Udemy/blob/main/Functions.ipynb\" target=\"_parent\"><img src=\"https://colab.research.google.com/assets/colab-badge.svg\" alt=\"Open In Colab\"/></a>"
      ]
    },
    {
      "cell_type": "markdown",
      "source": [
        "* Functions take some **inputs**, perform some logic on them, and return **outputs**\n",
        "\n",
        "* Functions are considered the first level of abstraction\n",
        "\n",
        "* Python has hundred of built-in functions\n",
        "\n",
        "* Each function can have one or more inputs and outputs\n",
        "\n"
      ],
      "metadata": {
        "id": "guSg2_Z3N7gC"
      }
    },
    {
      "cell_type": "markdown",
      "source": [
        "HELP FUNCTION"
      ],
      "metadata": {
        "id": "xCaxQv66OPQ1"
      }
    },
    {
      "cell_type": "code",
      "source": [
        "help(print)"
      ],
      "metadata": {
        "colab": {
          "base_uri": "https://localhost:8080/"
        },
        "id": "__D9ihkjOQN0",
        "outputId": "1587f64d-e0ee-44ed-d554-df683fc03fbb"
      },
      "execution_count": 1,
      "outputs": [
        {
          "output_type": "stream",
          "name": "stdout",
          "text": [
            "Help on built-in function print in module builtins:\n",
            "\n",
            "print(...)\n",
            "    print(value, ..., sep=' ', end='\\n', file=sys.stdout, flush=False)\n",
            "    \n",
            "    Prints the values to a stream, or to sys.stdout by default.\n",
            "    Optional keyword arguments:\n",
            "    file:  a file-like object (stream); defaults to the current sys.stdout.\n",
            "    sep:   string inserted between values, default a space.\n",
            "    end:   string appended after the last value, default a newline.\n",
            "    flush: whether to forcibly flush the stream.\n",
            "\n"
          ]
        }
      ]
    },
    {
      "cell_type": "markdown",
      "source": [
        "DEFINING FUNCTIONS "
      ],
      "metadata": {
        "id": "S4Jsaf3mO0ii"
      }
    },
    {
      "cell_type": "code",
      "source": [
        "## Function header\n",
        "\n",
        "def multiply(x,y):\n",
        "  result = x*y\n",
        "  return result"
      ],
      "metadata": {
        "id": "K5M4fSb4O367"
      },
      "execution_count": 4,
      "outputs": []
    },
    {
      "cell_type": "code",
      "source": [
        "  def multiply(x,y,z=1):\n",
        "    result_1 = x*y*z\n",
        "    return result_1"
      ],
      "metadata": {
        "id": "mKH-_ALDQWh8"
      },
      "execution_count": 5,
      "outputs": []
    },
    {
      "cell_type": "markdown",
      "source": [
        "FUNCTION NAMING \n"
      ],
      "metadata": {
        "id": "m_MDbt1uQ-IA"
      }
    },
    {
      "cell_type": "code",
      "source": [
        "## Can not use special characters or spaces\n",
        "## can not use python keywords or built-in functions names\n",
        "\n"
      ],
      "metadata": {
        "id": "7Mv5UMhgQ_6m"
      },
      "execution_count": null,
      "outputs": []
    },
    {
      "cell_type": "markdown",
      "source": [
        "FUNCTION DOCUMENTATION"
      ],
      "metadata": {
        "id": "TRn5-_JgRWaP"
      }
    },
    {
      "cell_type": "code",
      "source": [
        "## Doc strings \n",
        "## short for documentation strings, is crucial for documenting Python functions \n",
        "## Very simple, just use triple quotation strings in the line after the function header.\n",
        "\n",
        "def multiply_1(x,y):\n",
        "  \"\"\"\n",
        "  Multiply 2 numbers together and return the result\n",
        "  \"\"\"\n",
        "  result_2 =x*y\n",
        "  return result_2\n",
        "  \n"
      ],
      "metadata": {
        "id": "KCP9qec2RXg6"
      },
      "execution_count": 6,
      "outputs": []
    },
    {
      "cell_type": "code",
      "source": [
        "## In case of a more complex function, you can add more details as the strings as follows\n",
        "def multiply_2(x,y):\n",
        "  \"\"\"\n",
        "  Multiply 2 numbers together and return the result\n",
        "  INPUT:\n",
        "  2 numbers that should be multiplied\n",
        "\n",
        "  OUTPUT:\n",
        "  The multiplication result \n",
        "  \"\"\"\n",
        "  m = x*y\n",
        "  return m"
      ],
      "metadata": {
        "id": "xO8Motr3SHVe"
      },
      "execution_count": 7,
      "outputs": []
    },
    {
      "cell_type": "markdown",
      "source": [
        "PRACTICING"
      ],
      "metadata": {
        "id": "a8q3XwANSu_v"
      }
    },
    {
      "cell_type": "code",
      "source": [
        "help(len)"
      ],
      "metadata": {
        "colab": {
          "base_uri": "https://localhost:8080/"
        },
        "id": "4x40UbnxSv_h",
        "outputId": "44eb3b6c-e34e-4f46-d166-d5bc0c83bc2e"
      },
      "execution_count": 8,
      "outputs": [
        {
          "output_type": "stream",
          "name": "stdout",
          "text": [
            "Help on built-in function len in module builtins:\n",
            "\n",
            "len(obj, /)\n",
            "    Return the number of items in a container.\n",
            "\n"
          ]
        }
      ]
    },
    {
      "cell_type": "code",
      "source": [
        "help()"
      ],
      "metadata": {
        "colab": {
          "base_uri": "https://localhost:8080/"
        },
        "id": "alR9jB6qSyFY",
        "outputId": "566c2d52-37c2-4e15-ab93-0ab2dd523e3c"
      },
      "execution_count": 9,
      "outputs": [
        {
          "output_type": "stream",
          "name": "stdout",
          "text": [
            "\n",
            "Welcome to Python 3.7's help utility!\n",
            "\n",
            "If this is your first time using Python, you should definitely check out\n",
            "the tutorial on the Internet at https://docs.python.org/3.7/tutorial/.\n",
            "\n",
            "Enter the name of any module, keyword, or topic to get help on writing\n",
            "Python programs and using Python modules.  To quit this help utility and\n",
            "return to the interpreter, just type \"quit\".\n",
            "\n",
            "To get a list of available modules, keywords, symbols, or topics, type\n",
            "\"modules\", \"keywords\", \"symbols\", or \"topics\".  Each module also comes\n",
            "with a one-line summary of what it does; to list the modules whose name\n",
            "or summary contain a given string such as \"spam\", type \"modules spam\".\n",
            "\n",
            "\n",
            "You are now leaving help and returning to the Python interpreter.\n",
            "If you want to ask for help on a particular object directly from the\n",
            "interpreter, you can type \"help(object)\".  Executing \"help('string')\"\n",
            "has the same effect as typing a particular string at the help> prompt.\n"
          ]
        }
      ]
    },
    {
      "cell_type": "code",
      "source": [
        "def multiply_3 (first_num,second_num=3):\n",
        "  result_3 = first_num*second_num\n",
        "  return result_3"
      ],
      "metadata": {
        "id": "wpzhmbxpS_bk"
      },
      "execution_count": 10,
      "outputs": []
    },
    {
      "cell_type": "code",
      "source": [
        "##CALLING FUNCTIONS\n",
        "\n",
        "res = multiply_3(4,6)\n",
        "print(res)"
      ],
      "metadata": {
        "colab": {
          "base_uri": "https://localhost:8080/"
        },
        "id": "XclOk_y3TWpv",
        "outputId": "9da0a1d4-56d4-4d72-e615-daf5b0bddc77"
      },
      "execution_count": 11,
      "outputs": [
        {
          "output_type": "stream",
          "name": "stdout",
          "text": [
            "24\n"
          ]
        }
      ]
    },
    {
      "cell_type": "code",
      "source": [
        "res=multiply_3(4)\n",
        "print(res) ## If I do not specify the second number the function uses the default that I assigned before"
      ],
      "metadata": {
        "colab": {
          "base_uri": "https://localhost:8080/"
        },
        "id": "Wz3eWlTHTkhA",
        "outputId": "620526d8-3008-476e-df2a-894d9774e212"
      },
      "execution_count": 12,
      "outputs": [
        {
          "output_type": "stream",
          "name": "stdout",
          "text": [
            "12\n"
          ]
        }
      ]
    }
  ]
}