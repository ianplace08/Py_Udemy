{
  "nbformat": 4,
  "nbformat_minor": 0,
  "metadata": {
    "colab": {
      "name": "Conditional Statements.ipynb",
      "provenance": [],
      "authorship_tag": "ABX9TyMNIcCZgN+ij4kBpFc5ktEL",
      "include_colab_link": true
    },
    "kernelspec": {
      "name": "python3",
      "display_name": "Python 3"
    },
    "language_info": {
      "name": "python"
    }
  },
  "cells": [
    {
      "cell_type": "markdown",
      "metadata": {
        "id": "view-in-github",
        "colab_type": "text"
      },
      "source": [
        "<a href=\"https://colab.research.google.com/github/ianplace08/Py_Udemy/blob/main/Conditional_Statements.ipynb\" target=\"_parent\"><img src=\"https://colab.research.google.com/assets/colab-badge.svg\" alt=\"Open In Colab\"/></a>"
      ]
    },
    {
      "cell_type": "markdown",
      "source": [
        "SEQUENCE OF PROGRAM"
      ],
      "metadata": {
        "id": "3YjexvIiiqLv"
      }
    },
    {
      "cell_type": "code",
      "source": [
        "x = 9\n",
        "y = 3\n",
        "z = x/y\n",
        "\n",
        "print(\"Value of Z: \", z)"
      ],
      "metadata": {
        "colab": {
          "base_uri": "https://localhost:8080/"
        },
        "id": "NPetiT49iuvD",
        "outputId": "23b28d74-9495-4594-b408-c1ba148df71c"
      },
      "execution_count": 1,
      "outputs": [
        {
          "output_type": "stream",
          "name": "stdout",
          "text": [
            "Value of Z:  3.0\n"
          ]
        }
      ]
    },
    {
      "cell_type": "code",
      "source": [
        "int(z)"
      ],
      "metadata": {
        "colab": {
          "base_uri": "https://localhost:8080/"
        },
        "id": "aPAYgVREjgxe",
        "outputId": "06f78b62-bb56-4968-dda3-0cc515357aec"
      },
      "execution_count": 2,
      "outputs": [
        {
          "output_type": "execute_result",
          "data": {
            "text/plain": [
              "3"
            ]
          },
          "metadata": {},
          "execution_count": 2
        }
      ]
    },
    {
      "cell_type": "markdown",
      "source": [
        "The IF ELSE statement"
      ],
      "metadata": {
        "id": "h35IOG9Kj7_Z"
      }
    },
    {
      "cell_type": "code",
      "source": [
        "if 5 < 6: \n",
        "  print(\"Makes sense\")"
      ],
      "metadata": {
        "colab": {
          "base_uri": "https://localhost:8080/"
        },
        "id": "bJla4flrj_eT",
        "outputId": "535a333c-5b2d-48a9-e75f-b32033a35c1c"
      },
      "execution_count": 3,
      "outputs": [
        {
          "output_type": "stream",
          "name": "stdout",
          "text": [
            "Makes sense\n"
          ]
        }
      ]
    },
    {
      "cell_type": "code",
      "source": [
        "x = 5\n",
        "y = 2\n",
        "\n",
        "if y < 6:\n",
        "  z = x/y\n",
        "  print(\"Makes sense \",z)\n"
      ],
      "metadata": {
        "colab": {
          "base_uri": "https://localhost:8080/"
        },
        "id": "jddTDFYUkF60",
        "outputId": "fa22a208-63b0-4745-91f2-53b1baafbcbc"
      },
      "execution_count": 4,
      "outputs": [
        {
          "output_type": "stream",
          "name": "stdout",
          "text": [
            "Makes sense  2.5\n"
          ]
        }
      ]
    },
    {
      "cell_type": "code",
      "source": [
        "x = 5\n",
        "y = 7\n",
        "\n",
        "if y < 6:\n",
        "  z = x/y\n",
        "  print(\"Makes sense \",z)\n",
        "\n",
        "print(x)\n",
        "print(y)\n",
        "print(\"OK\")\n"
      ],
      "metadata": {
        "colab": {
          "base_uri": "https://localhost:8080/"
        },
        "id": "AmESGITLmLGN",
        "outputId": "e949f4d0-26a1-438c-a640-c7360d86dffd"
      },
      "execution_count": 5,
      "outputs": [
        {
          "output_type": "stream",
          "name": "stdout",
          "text": [
            "5\n",
            "7\n",
            "OK\n"
          ]
        }
      ]
    },
    {
      "cell_type": "markdown",
      "source": [
        "What if a condition is false and we need to point it out"
      ],
      "metadata": {
        "id": "_LFaW6SXmn4Y"
      }
    },
    {
      "cell_type": "code",
      "source": [
        "if 10 % 100 == 0:\n",
        "  print(\"Yes\")\n",
        "else:\n",
        "  print(\"No\")"
      ],
      "metadata": {
        "colab": {
          "base_uri": "https://localhost:8080/"
        },
        "id": "7MRbQYH4oIIm",
        "outputId": "dcb84e69-0d0b-4711-dc33-fd4db6a641d6"
      },
      "execution_count": 6,
      "outputs": [
        {
          "output_type": "stream",
          "name": "stdout",
          "text": [
            "No\n"
          ]
        }
      ]
    },
    {
      "cell_type": "markdown",
      "source": [
        "We can write multiple IF ELSE conditions"
      ],
      "metadata": {
        "id": "fPozpG0nopKT"
      }
    },
    {
      "cell_type": "code",
      "source": [
        "if 9 > 2:\n",
        "  print(\"1\")\n",
        "if 9 > 3:\n",
        "  print(\"2\")\n",
        "if 9>8:\n",
        "  print(\"3\")"
      ],
      "metadata": {
        "colab": {
          "base_uri": "https://localhost:8080/"
        },
        "id": "WSFTdLSforef",
        "outputId": "c81684c3-596d-4f84-eafb-4c3f1473168a"
      },
      "execution_count": 7,
      "outputs": [
        {
          "output_type": "stream",
          "name": "stdout",
          "text": [
            "1\n",
            "2\n",
            "3\n"
          ]
        }
      ]
    },
    {
      "cell_type": "markdown",
      "source": [
        "ELIF statements"
      ],
      "metadata": {
        "id": "Wk-zAuE8pALZ"
      }
    },
    {
      "cell_type": "code",
      "source": [
        "x = 7\n",
        "y = -1\n",
        "\n",
        "if x > y:\n",
        "  print(\"Greater\")\n",
        "elif x <y:\n",
        "  print(\"smaller\")\n",
        "elif x == y:\n",
        "  print(\"smaller\")\n",
        "elif x <0:\n",
        "  print(\"negative\")"
      ],
      "metadata": {
        "colab": {
          "base_uri": "https://localhost:8080/"
        },
        "id": "73Fp8OIbpB0V",
        "outputId": "ddc52ab5-389f-413d-e829-05e77919a295"
      },
      "execution_count": 8,
      "outputs": [
        {
          "output_type": "stream",
          "name": "stdout",
          "text": [
            "Greater\n"
          ]
        }
      ]
    },
    {
      "cell_type": "markdown",
      "source": [
        "ELIF statements are used where only one condition can be true. The rest are discarded"
      ],
      "metadata": {
        "id": "m9-E7uEspm7m"
      }
    }
  ]
}