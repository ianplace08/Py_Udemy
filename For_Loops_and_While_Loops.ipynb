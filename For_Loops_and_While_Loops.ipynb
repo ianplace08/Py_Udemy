{
  "nbformat": 4,
  "nbformat_minor": 0,
  "metadata": {
    "colab": {
      "name": "For Loops and While Loops.ipynb",
      "provenance": [],
      "authorship_tag": "ABX9TyNLo2nKF8o+gj8fvSci4lGq",
      "include_colab_link": true
    },
    "kernelspec": {
      "name": "python3",
      "display_name": "Python 3"
    },
    "language_info": {
      "name": "python"
    }
  },
  "cells": [
    {
      "cell_type": "markdown",
      "metadata": {
        "id": "view-in-github",
        "colab_type": "text"
      },
      "source": [
        "<a href=\"https://colab.research.google.com/github/ianplace08/Py_Udemy/blob/main/For_Loops_and_While_Loops.ipynb\" target=\"_parent\"><img src=\"https://colab.research.google.com/assets/colab-badge.svg\" alt=\"Open In Colab\"/></a>"
      ]
    },
    {
      "cell_type": "code",
      "source": [
        "x = 9\n",
        "a = 6\n",
        "\n",
        "x = x/a\n",
        "\n",
        "x = 9\n",
        "a = 7\n",
        "\n",
        "x = x/a\n",
        "\n",
        "x = 9\n",
        "a = 8\n",
        "\n",
        "x = x/a\n",
        "\n",
        "x = 9\n",
        "a = 9\n",
        "\n",
        "x = x/a"
      ],
      "metadata": {
        "id": "sHFlmRPitGI-"
      },
      "execution_count": 1,
      "outputs": []
    },
    {
      "cell_type": "markdown",
      "source": [
        "After the division of X by A, the result is stored in X and the value of nine that was previously stored in X, is replaced by the quotient of the division. "
      ],
      "metadata": {
        "id": "2WR4bOwitmYc"
      }
    },
    {
      "cell_type": "markdown",
      "source": [
        "To avoid write too much code we have loops"
      ],
      "metadata": {
        "id": "6OpvVcijulU1"
      }
    },
    {
      "cell_type": "code",
      "source": [
        "## While LOOP\n",
        "\n",
        "i = 0\n",
        "while i != 10:\n",
        "  print(\"Loop 4\")\n",
        "  i = i +1"
      ],
      "metadata": {
        "colab": {
          "base_uri": "https://localhost:8080/"
        },
        "id": "ySQyl_NUupSc",
        "outputId": "6f014ef0-428c-46c0-fa63-8e6573e4ddcc"
      },
      "execution_count": 3,
      "outputs": [
        {
          "output_type": "stream",
          "name": "stdout",
          "text": [
            "Loop 4\n",
            "Loop 4\n",
            "Loop 4\n",
            "Loop 4\n",
            "Loop 4\n",
            "Loop 4\n",
            "Loop 4\n",
            "Loop 4\n",
            "Loop 4\n",
            "Loop 4\n"
          ]
        }
      ]
    },
    {
      "cell_type": "markdown",
      "source": [
        "FOR LOOP"
      ],
      "metadata": {
        "id": "lWR6ejbTvSGw"
      }
    },
    {
      "cell_type": "code",
      "source": [
        "for x in range(3):\n",
        "  print (\"d\")"
      ],
      "metadata": {
        "colab": {
          "base_uri": "https://localhost:8080/"
        },
        "id": "yeGnjkLrvS1m",
        "outputId": "43cff411-9727-4c69-a0b8-ac986e9b5041"
      },
      "execution_count": 4,
      "outputs": [
        {
          "output_type": "stream",
          "name": "stdout",
          "text": [
            "d\n",
            "d\n",
            "d\n"
          ]
        }
      ]
    }
  ]
}