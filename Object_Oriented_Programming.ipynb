{
  "nbformat": 4,
  "nbformat_minor": 0,
  "metadata": {
    "colab": {
      "name": "Object Oriented Programming.ipynb",
      "provenance": [],
      "authorship_tag": "ABX9TyOKXFyofpejhVbgVuxmbcSq",
      "include_colab_link": true
    },
    "kernelspec": {
      "name": "python3",
      "display_name": "Python 3"
    },
    "language_info": {
      "name": "python"
    }
  },
  "cells": [
    {
      "cell_type": "markdown",
      "metadata": {
        "id": "view-in-github",
        "colab_type": "text"
      },
      "source": [
        "<a href=\"https://colab.research.google.com/github/ianplace08/Py_Udemy/blob/main/Object_Oriented_Programming.ipynb\" target=\"_parent\"><img src=\"https://colab.research.google.com/assets/colab-badge.svg\" alt=\"Open In Colab\"/></a>"
      ]
    },
    {
      "cell_type": "markdown",
      "source": [
        "OOP Definitions:\n",
        "\n",
        "* Classes: The blueprint of the objects. A template. A Backbone. For example, a dog class. \n",
        "\n",
        "* Objects: The actual entity we interact with. The instance of the class. For example, 2 years, black, German dog object. \n",
        "\n",
        "* Atribute: The object characteristics. For example, color, length, age, etc.\n",
        "\n",
        "* Method: The actions (Functions) that the object can do. For example, flying, eating, running, etc. "
      ],
      "metadata": {
        "id": "Gnpwq5k8alXW"
      }
    },
    {
      "cell_type": "markdown",
      "source": [
        "**SELF KEYWORD**\n",
        "\n",
        "* When you initialize 2 or more objects of the same class, python needs a way to differentiate between them.\n",
        "* **SELF** is the way to do so.\n",
        "* It is a pointer to the memory address where each object of the class is stored. "
      ],
      "metadata": {
        "id": "M85xuIGobQrg"
      }
    },
    {
      "cell_type": "markdown",
      "source": [
        "**CLASS KEYWORD**\n",
        "\n",
        "* We define a class using class keyword.\n",
        "* It is a convention to use CapitalName for the class. "
      ],
      "metadata": {
        "id": "ijwLn9-pb6lh"
      }
    },
    {
      "cell_type": "markdown",
      "source": [
        "**INIT METHOD**\n",
        "\n",
        "* This method stores all the initial values for all the instance attributes.\n",
        "\n",
        "* We must create like this: \"_init_()\"\n",
        "\n",
        "* The first argument must be self\n",
        "\n",
        "* We access the attributes using the **dot** operator\n"
      ],
      "metadata": {
        "id": "VoSKqwMecMIu"
      }
    },
    {
      "cell_type": "code",
      "source": [
        "## CLASS EXAMPLE\n",
        "\n",
        "class Car: \n",
        "  def __init__(self, color,year,model):\n",
        "    self.color= color\n",
        "    self.year=year\n",
        "    self.model=model"
      ],
      "metadata": {
        "id": "pDIk3CUXcwGk"
      },
      "execution_count": 2,
      "outputs": []
    },
    {
      "cell_type": "markdown",
      "source": [
        "**CLASS VS INSTANCE ATTRIBUTES**\n",
        "\n",
        "* The attributes inside the **init** method are specific for the instance. Called instance attributes. \n",
        "\n",
        "* Attributes that are shared between all instances are called **class** attributes and defined outside the init method.\n",
        "\n"
      ],
      "metadata": {
        "id": "MBlATkM3fB2d"
      }
    },
    {
      "cell_type": "code",
      "source": [
        "## CLASS EXAMPLE\n",
        "\n",
        "class Car: \n",
        "  def __init__(self, color,year,model):\n",
        "    self.color= color ## INSTANCE ATTRIBUTE\n",
        "    self.year=year ## INSTANCE ATTRIBUTE\n",
        "    self.model=model ## INSTANCE ATTRIBUTE \n",
        "  number_wheels=4 ## ATTRIBUTE SHARED BETWEEN ALL THE OBJECTS (INSTANCES) CLASS ATTRIBUTE"
      ],
      "metadata": {
        "id": "DJH1MY-bfeGQ"
      },
      "execution_count": null,
      "outputs": []
    },
    {
      "cell_type": "markdown",
      "source": [
        "**FUNCTIONS VS METHODS**\n",
        "\n",
        "* Both use de keyword **def**\n",
        "* Both have an input and an output\n",
        "* Functions are created **outside** the class\n",
        "* Methods are created **inside** the class"
      ],
      "metadata": {
        "id": "I2m8T-wLf93B"
      }
    },
    {
      "cell_type": "code",
      "source": [
        "class Car:\n",
        "  def __init__(self):\n",
        "    print (\"Hello\")"
      ],
      "metadata": {
        "id": "U9wS73BLgkIC"
      },
      "execution_count": 3,
      "outputs": []
    },
    {
      "cell_type": "code",
      "source": [
        "Car()"
      ],
      "metadata": {
        "colab": {
          "base_uri": "https://localhost:8080/"
        },
        "id": "5qeFlR25g8Bb",
        "outputId": "24f45a64-d451-43dd-bb25-224de3a891d2"
      },
      "execution_count": 4,
      "outputs": [
        {
          "output_type": "stream",
          "name": "stdout",
          "text": [
            "Hello\n"
          ]
        },
        {
          "output_type": "execute_result",
          "data": {
            "text/plain": [
              "<__main__.Car at 0x7f85222e7550>"
            ]
          },
          "metadata": {},
          "execution_count": 4
        }
      ]
    },
    {
      "cell_type": "code",
      "source": [
        "class Car:\n",
        "  def __init__(self,year):\n",
        "    self.year = year\n",
        "    print (\"Hello\")\n",
        "  number_wheels=4"
      ],
      "metadata": {
        "id": "DWh13MHog_hX"
      },
      "execution_count": 32,
      "outputs": []
    },
    {
      "cell_type": "code",
      "source": [
        "Car (2012)"
      ],
      "metadata": {
        "colab": {
          "base_uri": "https://localhost:8080/"
        },
        "id": "nxoyTDnthEEV",
        "outputId": "3d8fbd9a-cb7d-4bd4-c9c8-1bb783c3572f"
      },
      "execution_count": 33,
      "outputs": [
        {
          "output_type": "stream",
          "name": "stdout",
          "text": [
            "Hello\n"
          ]
        },
        {
          "output_type": "execute_result",
          "data": {
            "text/plain": [
              "<__main__.Car at 0x7f85222e7c10>"
            ]
          },
          "metadata": {},
          "execution_count": 33
        }
      ]
    },
    {
      "cell_type": "code",
      "source": [
        "car_2012 = Car(2012)\n",
        "car_2013 = Car(2013)"
      ],
      "metadata": {
        "colab": {
          "base_uri": "https://localhost:8080/"
        },
        "id": "1p0c5kh2hMCE",
        "outputId": "97ee4dbe-5025-4934-b824-772d34bd5ba8"
      },
      "execution_count": 34,
      "outputs": [
        {
          "output_type": "stream",
          "name": "stdout",
          "text": [
            "Hello\n",
            "Hello\n"
          ]
        }
      ]
    },
    {
      "cell_type": "code",
      "source": [
        "car_2012.year"
      ],
      "metadata": {
        "colab": {
          "base_uri": "https://localhost:8080/"
        },
        "id": "VVEoNpTSiZct",
        "outputId": "92511df0-3941-453c-fb90-c26e7c47638e"
      },
      "execution_count": 35,
      "outputs": [
        {
          "output_type": "execute_result",
          "data": {
            "text/plain": [
              "2012"
            ]
          },
          "metadata": {},
          "execution_count": 35
        }
      ]
    },
    {
      "cell_type": "code",
      "source": [
        "class Car:\n",
        "  def __init__(self,year):\n",
        "    self.year = year\n",
        "    print (\"Hello\")"
      ],
      "metadata": {
        "id": "e_C7KODqieuL"
      },
      "execution_count": 12,
      "outputs": []
    },
    {
      "cell_type": "code",
      "source": [
        "car_2013.year"
      ],
      "metadata": {
        "colab": {
          "base_uri": "https://localhost:8080/"
        },
        "id": "iUvKBWVHi_tH",
        "outputId": "c93f3302-461e-43a0-fd1c-22240bee5c3e"
      },
      "execution_count": 36,
      "outputs": [
        {
          "output_type": "execute_result",
          "data": {
            "text/plain": [
              "2013"
            ]
          },
          "metadata": {},
          "execution_count": 36
        }
      ]
    },
    {
      "cell_type": "code",
      "source": [
        "class Car:\n",
        "  def __init__(self,year):\n",
        "    self.year = year ## Attributes that are specific for specific instances.\n",
        "  number_wheels=4 ## Attributes that are shared with ALL the instances "
      ],
      "metadata": {
        "id": "c3BGR-dvjKQp"
      },
      "execution_count": 26,
      "outputs": []
    },
    {
      "cell_type": "code",
      "source": [
        "car_2013.number_wheels"
      ],
      "metadata": {
        "colab": {
          "base_uri": "https://localhost:8080/"
        },
        "id": "33YgJKgJjQZk",
        "outputId": "1acad0e4-2ee3-4b25-fcdd-86bbedf439db"
      },
      "execution_count": 37,
      "outputs": [
        {
          "output_type": "execute_result",
          "data": {
            "text/plain": [
              "4"
            ]
          },
          "metadata": {},
          "execution_count": 37
        }
      ]
    }
  ]
}