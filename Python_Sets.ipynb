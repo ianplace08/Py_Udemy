{
  "nbformat": 4,
  "nbformat_minor": 0,
  "metadata": {
    "colab": {
      "name": "Python_Sets.ipynb",
      "provenance": [],
      "authorship_tag": "ABX9TyPimiDKoBtu3hDpEje8yP+J",
      "include_colab_link": true
    },
    "kernelspec": {
      "name": "python3",
      "display_name": "Python 3"
    },
    "language_info": {
      "name": "python"
    }
  },
  "cells": [
    {
      "cell_type": "markdown",
      "metadata": {
        "id": "view-in-github",
        "colab_type": "text"
      },
      "source": [
        "<a href=\"https://colab.research.google.com/github/ianplace08/Py_Udemy/blob/main/Python_Sets.ipynb\" target=\"_parent\"><img src=\"https://colab.research.google.com/assets/colab-badge.svg\" alt=\"Open In Colab\"/></a>"
      ]
    },
    {
      "cell_type": "markdown",
      "source": [
        "* Is a special case of a list where the elements can only be **unique**.\n",
        "* The set **can not** be indexed\n",
        "* Sets does not have an order\n",
        "* Sets are mutable\n",
        "* We create a set using **curly brackets** {}"
      ],
      "metadata": {
        "id": "sZODdNNZa1wx"
      }
    },
    {
      "cell_type": "code",
      "source": [
        "my_set = {1,2,3}\n",
        "## my_set[1]=1 -->> This one will show an error"
      ],
      "metadata": {
        "id": "V6ClOSUQbpGO"
      },
      "execution_count": 2,
      "outputs": []
    },
    {
      "cell_type": "markdown",
      "source": [
        "REPEATED VALUES IN A SET\n",
        "\n",
        "* it will print only the unique values"
      ],
      "metadata": {
        "id": "DYlHdJrkb7cy"
      }
    },
    {
      "cell_type": "code",
      "source": [
        "my_set = {1,2,3,1}\n",
        "print(my_set)"
      ],
      "metadata": {
        "colab": {
          "base_uri": "https://localhost:8080/"
        },
        "id": "RcXL9eTLb87v",
        "outputId": "d9f63e3f-d509-473c-ebd8-93769f2a92c0"
      },
      "execution_count": 3,
      "outputs": [
        {
          "output_type": "stream",
          "name": "stdout",
          "text": [
            "{1, 2, 3}\n"
          ]
        }
      ]
    },
    {
      "cell_type": "markdown",
      "source": [
        "How to add and Remove values?"
      ],
      "metadata": {
        "id": "HeytVr69cQMl"
      }
    },
    {
      "cell_type": "code",
      "source": [
        "## We use the ADD function\n",
        "\n",
        "my_set={1,2,3}\n",
        "my_set.add(4)\n",
        "print(my_set)"
      ],
      "metadata": {
        "colab": {
          "base_uri": "https://localhost:8080/"
        },
        "id": "IAkty7VocSoy",
        "outputId": "cfbb776c-006a-4623-b6bf-b93ed8207f9a"
      },
      "execution_count": 4,
      "outputs": [
        {
          "output_type": "stream",
          "name": "stdout",
          "text": [
            "{1, 2, 3, 4}\n"
          ]
        }
      ]
    },
    {
      "cell_type": "code",
      "source": [
        "## We remove elements using the POP function\n",
        "\n",
        "my_set={1,2,3}\n",
        "my_set.pop() ## I put the position of the value that will be removed. The first element of the pop will be removed\n",
        "print(my_set)"
      ],
      "metadata": {
        "colab": {
          "base_uri": "https://localhost:8080/"
        },
        "id": "urTY3sQvciUP",
        "outputId": "9863e369-1634-4477-d573-4c9c061ba8e8"
      },
      "execution_count": 6,
      "outputs": [
        {
          "output_type": "stream",
          "name": "stdout",
          "text": [
            "{2, 3}\n"
          ]
        }
      ]
    },
    {
      "cell_type": "markdown",
      "source": [
        "CREATING A SET"
      ],
      "metadata": {
        "id": "5-JoVUNZdJCP"
      }
    },
    {
      "cell_type": "code",
      "source": [
        "my_set={1,5.2,'s'}\n"
      ],
      "metadata": {
        "id": "eyWdp2hedKAc"
      },
      "execution_count": 7,
      "outputs": []
    },
    {
      "cell_type": "code",
      "source": [
        "my_set"
      ],
      "metadata": {
        "colab": {
          "base_uri": "https://localhost:8080/"
        },
        "id": "u9HtweoodN7f",
        "outputId": "815a8563-6e8d-4a4b-8fde-99e9f8f78ced"
      },
      "execution_count": 8,
      "outputs": [
        {
          "output_type": "execute_result",
          "data": {
            "text/plain": [
              "{1, 5.2, 's'}"
            ]
          },
          "metadata": {},
          "execution_count": 8
        }
      ]
    },
    {
      "cell_type": "code",
      "source": [
        "print(type(my_set))"
      ],
      "metadata": {
        "colab": {
          "base_uri": "https://localhost:8080/"
        },
        "id": "IfTCos9-dQ-j",
        "outputId": "26e99155-e670-4aec-ed2e-696eddceca48"
      },
      "execution_count": 9,
      "outputs": [
        {
          "output_type": "stream",
          "name": "stdout",
          "text": [
            "<class 'set'>\n"
          ]
        }
      ]
    },
    {
      "cell_type": "markdown",
      "source": [
        "SET INDEXING"
      ],
      "metadata": {
        "id": "4Up7VUNddXZx"
      }
    },
    {
      "cell_type": "code",
      "source": [
        "my_set[0] ## It will show that SET objects do not support indexing"
      ],
      "metadata": {
        "colab": {
          "base_uri": "https://localhost:8080/",
          "height": 168
        },
        "id": "PmEHNUFudYPI",
        "outputId": "f5ceee14-5566-4a5c-f4cd-d3077d195bba"
      },
      "execution_count": 10,
      "outputs": [
        {
          "output_type": "error",
          "ename": "TypeError",
          "evalue": "ignored",
          "traceback": [
            "\u001b[0;31m---------------------------------------------------------------------------\u001b[0m",
            "\u001b[0;31mTypeError\u001b[0m                                 Traceback (most recent call last)",
            "\u001b[0;32m<ipython-input-10-158c424478a1>\u001b[0m in \u001b[0;36m<module>\u001b[0;34m()\u001b[0m\n\u001b[0;32m----> 1\u001b[0;31m \u001b[0mmy_set\u001b[0m\u001b[0;34m[\u001b[0m\u001b[0;36m0\u001b[0m\u001b[0;34m]\u001b[0m\u001b[0;34m\u001b[0m\u001b[0;34m\u001b[0m\u001b[0m\n\u001b[0m",
            "\u001b[0;31mTypeError\u001b[0m: 'set' object is not subscriptable"
          ]
        }
      ]
    },
    {
      "cell_type": "markdown",
      "source": [
        "DUPLICATED VALUES"
      ],
      "metadata": {
        "id": "Liz3DhgmdjvG"
      }
    },
    {
      "cell_type": "code",
      "source": [
        "my_set = {1,1,1,2,1}"
      ],
      "metadata": {
        "id": "5TvaStaxdlAW"
      },
      "execution_count": 11,
      "outputs": []
    },
    {
      "cell_type": "code",
      "source": [
        "my_set"
      ],
      "metadata": {
        "colab": {
          "base_uri": "https://localhost:8080/"
        },
        "id": "ez3chAUSuAPJ",
        "outputId": "31c5020b-ac40-47d1-f599-207004f56bba"
      },
      "execution_count": 12,
      "outputs": [
        {
          "output_type": "execute_result",
          "data": {
            "text/plain": [
              "{1, 2}"
            ]
          },
          "metadata": {},
          "execution_count": 12
        }
      ]
    },
    {
      "cell_type": "markdown",
      "source": [
        "ADDING VALUES"
      ],
      "metadata": {
        "id": "gRqwK-JWuChe"
      }
    },
    {
      "cell_type": "code",
      "source": [
        "my_set.add(3)"
      ],
      "metadata": {
        "id": "ORyKleAUuDT_"
      },
      "execution_count": 13,
      "outputs": []
    },
    {
      "cell_type": "code",
      "source": [
        "my_set"
      ],
      "metadata": {
        "colab": {
          "base_uri": "https://localhost:8080/"
        },
        "id": "-L-9PuuMB4If",
        "outputId": "d13d82a4-b847-4649-ef9c-48454bfa61c8"
      },
      "execution_count": 14,
      "outputs": [
        {
          "output_type": "execute_result",
          "data": {
            "text/plain": [
              "{1, 2, 3}"
            ]
          },
          "metadata": {},
          "execution_count": 14
        }
      ]
    },
    {
      "cell_type": "code",
      "source": [
        "my_set.add(5)"
      ],
      "metadata": {
        "id": "KjC6HEWRB7du"
      },
      "execution_count": 15,
      "outputs": []
    },
    {
      "cell_type": "code",
      "source": [
        "my_set"
      ],
      "metadata": {
        "colab": {
          "base_uri": "https://localhost:8080/"
        },
        "id": "-HgyT6mfB9FM",
        "outputId": "830cdf5f-f99e-4e43-8d34-4f8f76e59e01"
      },
      "execution_count": 16,
      "outputs": [
        {
          "output_type": "execute_result",
          "data": {
            "text/plain": [
              "{1, 2, 3, 5}"
            ]
          },
          "metadata": {},
          "execution_count": 16
        }
      ]
    },
    {
      "cell_type": "markdown",
      "source": [
        "REMOVING VALUES"
      ],
      "metadata": {
        "id": "flbgpnvoB_4j"
      }
    },
    {
      "cell_type": "code",
      "source": [
        "my_set.pop()"
      ],
      "metadata": {
        "colab": {
          "base_uri": "https://localhost:8080/"
        },
        "id": "jR-9h5rYCAyX",
        "outputId": "0a6f4cad-ac2b-416d-e227-754e47612f90"
      },
      "execution_count": 18,
      "outputs": [
        {
          "output_type": "execute_result",
          "data": {
            "text/plain": [
              "1"
            ]
          },
          "metadata": {},
          "execution_count": 18
        }
      ]
    },
    {
      "cell_type": "code",
      "source": [
        "my_set"
      ],
      "metadata": {
        "colab": {
          "base_uri": "https://localhost:8080/"
        },
        "id": "w-PcmmZ8CDoH",
        "outputId": "68573fee-a143-4ba2-b65c-acb6e4baa237"
      },
      "execution_count": 19,
      "outputs": [
        {
          "output_type": "execute_result",
          "data": {
            "text/plain": [
              "{2, 3, 5}"
            ]
          },
          "metadata": {},
          "execution_count": 19
        }
      ]
    },
    {
      "cell_type": "code",
      "source": [
        "my_set.pop()"
      ],
      "metadata": {
        "colab": {
          "base_uri": "https://localhost:8080/"
        },
        "id": "EcEqUyo8CJcA",
        "outputId": "744a6783-135f-4b66-b456-6add11ec8088"
      },
      "execution_count": 20,
      "outputs": [
        {
          "output_type": "execute_result",
          "data": {
            "text/plain": [
              "2"
            ]
          },
          "metadata": {},
          "execution_count": 20
        }
      ]
    },
    {
      "cell_type": "code",
      "source": [
        "my_set"
      ],
      "metadata": {
        "colab": {
          "base_uri": "https://localhost:8080/"
        },
        "id": "eA6pKJPZCM-1",
        "outputId": "264c474a-ff63-48e6-cc83-0a58fc57e466"
      },
      "execution_count": 21,
      "outputs": [
        {
          "output_type": "execute_result",
          "data": {
            "text/plain": [
              "{3, 5}"
            ]
          },
          "metadata": {},
          "execution_count": 21
        }
      ]
    },
    {
      "cell_type": "code",
      "source": [
        ""
      ],
      "metadata": {
        "id": "g6ojlytmCQkk"
      },
      "execution_count": null,
      "outputs": []
    }
  ]
}