{
  "nbformat": 4,
  "nbformat_minor": 0,
  "metadata": {
    "colab": {
      "name": "S5_Measures of Variable Relationship.ipynb",
      "provenance": [],
      "authorship_tag": "ABX9TyNeJP4mHaBu2Cjwt/d/MId0",
      "include_colab_link": true
    },
    "kernelspec": {
      "name": "python3",
      "display_name": "Python 3"
    },
    "language_info": {
      "name": "python"
    }
  },
  "cells": [
    {
      "cell_type": "markdown",
      "metadata": {
        "id": "view-in-github",
        "colab_type": "text"
      },
      "source": [
        "<a href=\"https://colab.research.google.com/github/ianplace08/Py_Udemy/blob/main/S5_Measures_of_Variable_Relationship.ipynb\" target=\"_parent\"><img src=\"https://colab.research.google.com/assets/colab-badge.svg\" alt=\"Open In Colab\"/></a>"
      ]
    },
    {
      "cell_type": "markdown",
      "source": [
        "COVARIANCE\n",
        "\n",
        "Measure the directional relationship between two variables. There are three types: \n",
        "\n",
        "* Positive COV: if one variable increase, second variable also increases.\n",
        "* Negative COV: if one variable increase, second variable decreases.\n",
        "* Zero COV: no relation.\n",
        "\n"
      ],
      "metadata": {
        "id": "YdNi3QmyPIKl"
      }
    },
    {
      "cell_type": "markdown",
      "source": [
        "CORRELATION\n",
        "\n",
        "* Covariance tells us the type of relationship two variables have.\n",
        "* But how strong is this relationship?\n",
        "* There is a formula"
      ],
      "metadata": {
        "id": "vVJmN6FYQ1n7"
      }
    }
  ]
}