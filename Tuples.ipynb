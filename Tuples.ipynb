{
  "nbformat": 4,
  "nbformat_minor": 0,
  "metadata": {
    "colab": {
      "name": "Tuples.ipynb",
      "provenance": [],
      "authorship_tag": "ABX9TyPVMSj7RNnACCivFSAIlfsh",
      "include_colab_link": true
    },
    "kernelspec": {
      "name": "python3",
      "display_name": "Python 3"
    },
    "language_info": {
      "name": "python"
    }
  },
  "cells": [
    {
      "cell_type": "markdown",
      "metadata": {
        "id": "view-in-github",
        "colab_type": "text"
      },
      "source": [
        "<a href=\"https://colab.research.google.com/github/ianplace08/Py_Udemy/blob/main/Tuples.ipynb\" target=\"_parent\"><img src=\"https://colab.research.google.com/assets/colab-badge.svg\" alt=\"Open In Colab\"/></a>"
      ]
    },
    {
      "cell_type": "markdown",
      "source": [
        "Tuple is a special case of a list where the elements **can not be change**\n",
        "* Tuples are inmutable"
      ],
      "metadata": {
        "id": "Tt7oApp7ZzPV"
      }
    },
    {
      "cell_type": "code",
      "source": [
        "my_tuple=(1,2,5.3)\n",
        "print(type(my_tuple))"
      ],
      "metadata": {
        "colab": {
          "base_uri": "https://localhost:8080/"
        },
        "id": "_vUk0SgGZ7Z-",
        "outputId": "fc1d8de1-b1be-41fc-e0ab-6e346e80dddb"
      },
      "execution_count": 1,
      "outputs": [
        {
          "output_type": "stream",
          "name": "stdout",
          "text": [
            "<class 'tuple'>\n"
          ]
        }
      ]
    },
    {
      "cell_type": "code",
      "source": [
        "print(my_tuple[1])"
      ],
      "metadata": {
        "colab": {
          "base_uri": "https://localhost:8080/"
        },
        "id": "LIT23NFcbsuq",
        "outputId": "7d47c499-f0db-4926-a519-8bd4cbecb8ef"
      },
      "execution_count": 2,
      "outputs": [
        {
          "output_type": "stream",
          "name": "stdout",
          "text": [
            "2\n"
          ]
        }
      ]
    },
    {
      "cell_type": "markdown",
      "source": [
        "EMPTY TUPLES"
      ],
      "metadata": {
        "id": "DJp3ooIYcCBO"
      }
    },
    {
      "cell_type": "code",
      "source": [
        "empty_tuple=()\n",
        "print(empty_tuple)\n",
        "print(len(empty_tuple))"
      ],
      "metadata": {
        "colab": {
          "base_uri": "https://localhost:8080/"
        },
        "id": "_Jil7thCcC73",
        "outputId": "d8d86f25-f03e-4e0d-cff7-cf009d2416b1"
      },
      "execution_count": 3,
      "outputs": [
        {
          "output_type": "stream",
          "name": "stdout",
          "text": [
            "()\n",
            "0\n"
          ]
        }
      ]
    },
    {
      "cell_type": "markdown",
      "source": [
        "TUPLES WITH ONE ELEMENT"
      ],
      "metadata": {
        "id": "A2hsM3W1d-f9"
      }
    },
    {
      "cell_type": "code",
      "source": [
        "tuple_one=(\"Ahmed\")\n",
        "print(type(tuple_one))\n",
        "tuple_one = (2)\n",
        "print(type(tuple_one))\n"
      ],
      "metadata": {
        "colab": {
          "base_uri": "https://localhost:8080/"
        },
        "id": "PiROGoakeA3v",
        "outputId": "18e89a44-a7a0-4b78-b0f3-f787ba166889"
      },
      "execution_count": 4,
      "outputs": [
        {
          "output_type": "stream",
          "name": "stdout",
          "text": [
            "<class 'str'>\n",
            "<class 'int'>\n"
          ]
        }
      ]
    },
    {
      "cell_type": "markdown",
      "source": [
        "USE TRAILING COMA\n",
        "\n",
        "* allows to make a tuple with one element"
      ],
      "metadata": {
        "id": "ZHb9j4J5eesp"
      }
    },
    {
      "cell_type": "code",
      "source": [
        "tuple_one=(\"Ahmed\"),\n",
        "print(type(tuple_one))\n",
        "tuple_one = (2),\n",
        "print(type(tuple_one))"
      ],
      "metadata": {
        "colab": {
          "base_uri": "https://localhost:8080/"
        },
        "id": "xI02Q5KJefpR",
        "outputId": "89bfc548-4c37-4457-9982-8c7e01c578c7"
      },
      "execution_count": 5,
      "outputs": [
        {
          "output_type": "stream",
          "name": "stdout",
          "text": [
            "<class 'tuple'>\n",
            "<class 'tuple'>\n"
          ]
        }
      ]
    },
    {
      "cell_type": "markdown",
      "source": [
        "TUPLE PACKING\n",
        "\n",
        "* we can write it with or without the circular brackets and python will understand that is a tuple.\n",
        "* A tuple mix different type of data"
      ],
      "metadata": {
        "id": "UOvPP0nwesrL"
      }
    },
    {
      "cell_type": "code",
      "source": [
        "t = 12345,54321,'hello!'\n",
        "print(t)\n",
        "print(type(t))"
      ],
      "metadata": {
        "colab": {
          "base_uri": "https://localhost:8080/"
        },
        "id": "eULuBNpzetZP",
        "outputId": "e060272f-a98b-4e13-a1ee-82018e57f8ca"
      },
      "execution_count": 6,
      "outputs": [
        {
          "output_type": "stream",
          "name": "stdout",
          "text": [
            "(12345, 54321, 'hello!')\n",
            "<class 'tuple'>\n"
          ]
        }
      ]
    },
    {
      "cell_type": "markdown",
      "source": [
        "SEQUENCE UNPACKING\n",
        "\n",
        "* the inverse operation"
      ],
      "metadata": {
        "id": "W10zqRkGsF4a"
      }
    },
    {
      "cell_type": "code",
      "source": [
        "x,y,z=t\n",
        "print(x)\n",
        "print(y)\n",
        "print(z)"
      ],
      "metadata": {
        "colab": {
          "base_uri": "https://localhost:8080/"
        },
        "id": "r5e--CZbsJ46",
        "outputId": "7e1ba0ae-17a9-4a09-a725-6979dc8b31b2"
      },
      "execution_count": 7,
      "outputs": [
        {
          "output_type": "stream",
          "name": "stdout",
          "text": [
            "12345\n",
            "54321\n",
            "hello!\n"
          ]
        }
      ]
    },
    {
      "cell_type": "markdown",
      "source": [
        "TUPLE FUNCTIONS"
      ],
      "metadata": {
        "id": "yicfoY31sTSN"
      }
    },
    {
      "cell_type": "code",
      "source": [
        "tuple_one = (2,1,2,3,2)\n",
        "print(tuple_one.count(2))"
      ],
      "metadata": {
        "colab": {
          "base_uri": "https://localhost:8080/"
        },
        "id": "VeFX1txXsVa7",
        "outputId": "32e25f81-95a5-4d52-e865-d1f7e7875d5c"
      },
      "execution_count": 8,
      "outputs": [
        {
          "output_type": "stream",
          "name": "stdout",
          "text": [
            "3\n"
          ]
        }
      ]
    },
    {
      "cell_type": "code",
      "source": [
        "tuple_one.index(3)"
      ],
      "metadata": {
        "colab": {
          "base_uri": "https://localhost:8080/"
        },
        "id": "x8tOdHiduJBK",
        "outputId": "306a190d-b52f-4798-d90a-f2264b989cfd"
      },
      "execution_count": 10,
      "outputs": [
        {
          "output_type": "execute_result",
          "data": {
            "text/plain": [
              "3"
            ]
          },
          "metadata": {},
          "execution_count": 10
        }
      ]
    }
  ]
}